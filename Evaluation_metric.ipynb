{
 "cells": [
  {
   "cell_type": "code",
   "execution_count": 11,
   "metadata": {},
   "outputs": [],
   "source": [
    "import pandas as pd\n",
    "import matplotlib.pyplot as plt\n",
    "%matplotlib inline\n",
    "import numpy as np\n",
    "import seaborn as sns\n",
    "from datetime import datetime    # To access datetime \n",
    "from pandas import Series \n",
    "import warnings\n",
    "warnings.filterwarnings('ignore')"
   ]
  },
  {
   "cell_type": "code",
   "execution_count": 12,
   "metadata": {},
   "outputs": [],
   "source": [
    "data=pd.read_excel('Evaluation Metric example.xlsx')"
   ]
  },
  {
   "cell_type": "code",
   "execution_count": 13,
   "metadata": {},
   "outputs": [
    {
     "data": {
      "text/html": [
       "<div>\n",
       "<style scoped>\n",
       "    .dataframe tbody tr th:only-of-type {\n",
       "        vertical-align: middle;\n",
       "    }\n",
       "\n",
       "    .dataframe tbody tr th {\n",
       "        vertical-align: top;\n",
       "    }\n",
       "\n",
       "    .dataframe thead th {\n",
       "        text-align: right;\n",
       "    }\n",
       "</style>\n",
       "<table border=\"1\" class=\"dataframe\">\n",
       "  <thead>\n",
       "    <tr style=\"text-align: right;\">\n",
       "      <th></th>\n",
       "      <th>timestamp</th>\n",
       "      <th>m1</th>\n",
       "      <th>m2</th>\n",
       "      <th>m3</th>\n",
       "      <th>m1_hat</th>\n",
       "      <th>m2_hat</th>\n",
       "      <th>m3_hat</th>\n",
       "      <th>(m1-m1_hat)^2</th>\n",
       "      <th>(m2-m2_hat)^2</th>\n",
       "      <th>(m3-m3_hat)^2</th>\n",
       "      <th>d(t)</th>\n",
       "      <th>exp_weight</th>\n",
       "      <th>weighted_m1_error</th>\n",
       "      <th>weighted_m2_error</th>\n",
       "      <th>weighted_m3_error</th>\n",
       "    </tr>\n",
       "  </thead>\n",
       "  <tbody>\n",
       "    <tr>\n",
       "      <th>0</th>\n",
       "      <td>2017-04-01 00:00:00</td>\n",
       "      <td>2898.969633</td>\n",
       "      <td>1390.244624</td>\n",
       "      <td>0.000000</td>\n",
       "      <td>2000.0</td>\n",
       "      <td>2000.0</td>\n",
       "      <td>2000.0</td>\n",
       "      <td>808146.400566</td>\n",
       "      <td>3.718016e+05</td>\n",
       "      <td>4.000000e+06</td>\n",
       "      <td>1.0</td>\n",
       "      <td>0.993092</td>\n",
       "      <td>802564</td>\n",
       "      <td>3.692334e+05</td>\n",
       "      <td>3.972370e+06</td>\n",
       "    </tr>\n",
       "    <tr>\n",
       "      <th>1</th>\n",
       "      <td>2017-04-01 00:15:00</td>\n",
       "      <td>2531.896894</td>\n",
       "      <td>1087.313897</td>\n",
       "      <td>0.000000</td>\n",
       "      <td>2000.0</td>\n",
       "      <td>2000.0</td>\n",
       "      <td>2000.0</td>\n",
       "      <td>282914.306323</td>\n",
       "      <td>8.329959e+05</td>\n",
       "      <td>4.000000e+06</td>\n",
       "      <td>1.0</td>\n",
       "      <td>0.993092</td>\n",
       "      <td>280960</td>\n",
       "      <td>8.272420e+05</td>\n",
       "      <td>3.972370e+06</td>\n",
       "    </tr>\n",
       "    <tr>\n",
       "      <th>2</th>\n",
       "      <td>2017-04-01 00:30:00</td>\n",
       "      <td>2171.649138</td>\n",
       "      <td>695.625737</td>\n",
       "      <td>0.484790</td>\n",
       "      <td>2000.0</td>\n",
       "      <td>2000.0</td>\n",
       "      <td>2000.0</td>\n",
       "      <td>29463.426526</td>\n",
       "      <td>1.701392e+06</td>\n",
       "      <td>3.998061e+06</td>\n",
       "      <td>1.0</td>\n",
       "      <td>0.993092</td>\n",
       "      <td>29259.9</td>\n",
       "      <td>1.689640e+06</td>\n",
       "      <td>3.970444e+06</td>\n",
       "    </tr>\n",
       "    <tr>\n",
       "      <th>3</th>\n",
       "      <td>2017-04-01 00:45:00</td>\n",
       "      <td>2207.299159</td>\n",
       "      <td>615.496571</td>\n",
       "      <td>1.317875</td>\n",
       "      <td>2000.0</td>\n",
       "      <td>2000.0</td>\n",
       "      <td>2000.0</td>\n",
       "      <td>42972.941525</td>\n",
       "      <td>1.916850e+06</td>\n",
       "      <td>3.994730e+06</td>\n",
       "      <td>1.0</td>\n",
       "      <td>0.993092</td>\n",
       "      <td>42676.1</td>\n",
       "      <td>1.903609e+06</td>\n",
       "      <td>3.967137e+06</td>\n",
       "    </tr>\n",
       "    <tr>\n",
       "      <th>4</th>\n",
       "      <td>2017-04-01 01:00:00</td>\n",
       "      <td>2839.441067</td>\n",
       "      <td>1071.573744</td>\n",
       "      <td>0.000000</td>\n",
       "      <td>2000.0</td>\n",
       "      <td>2000.0</td>\n",
       "      <td>2000.0</td>\n",
       "      <td>704661.305364</td>\n",
       "      <td>8.619753e+05</td>\n",
       "      <td>4.000000e+06</td>\n",
       "      <td>1.0</td>\n",
       "      <td>0.993092</td>\n",
       "      <td>699794</td>\n",
       "      <td>8.560212e+05</td>\n",
       "      <td>3.972370e+06</td>\n",
       "    </tr>\n",
       "  </tbody>\n",
       "</table>\n",
       "</div>"
      ],
      "text/plain": [
       "            timestamp           m1           m2        m3  m1_hat  m2_hat  \\\n",
       "0 2017-04-01 00:00:00  2898.969633  1390.244624  0.000000  2000.0  2000.0   \n",
       "1 2017-04-01 00:15:00  2531.896894  1087.313897  0.000000  2000.0  2000.0   \n",
       "2 2017-04-01 00:30:00  2171.649138   695.625737  0.484790  2000.0  2000.0   \n",
       "3 2017-04-01 00:45:00  2207.299159   615.496571  1.317875  2000.0  2000.0   \n",
       "4 2017-04-01 01:00:00  2839.441067  1071.573744  0.000000  2000.0  2000.0   \n",
       "\n",
       "   m3_hat  (m1-m1_hat)^2  (m2-m2_hat)^2  (m3-m3_hat)^2  d(t)  exp_weight  \\\n",
       "0  2000.0  808146.400566   3.718016e+05   4.000000e+06   1.0    0.993092   \n",
       "1  2000.0  282914.306323   8.329959e+05   4.000000e+06   1.0    0.993092   \n",
       "2  2000.0   29463.426526   1.701392e+06   3.998061e+06   1.0    0.993092   \n",
       "3  2000.0   42972.941525   1.916850e+06   3.994730e+06   1.0    0.993092   \n",
       "4  2000.0  704661.305364   8.619753e+05   4.000000e+06   1.0    0.993092   \n",
       "\n",
       "  weighted_m1_error  weighted_m2_error  weighted_m3_error  \n",
       "0            802564       3.692334e+05       3.972370e+06  \n",
       "1            280960       8.272420e+05       3.972370e+06  \n",
       "2           29259.9       1.689640e+06       3.970444e+06  \n",
       "3           42676.1       1.903609e+06       3.967137e+06  \n",
       "4            699794       8.560212e+05       3.972370e+06  "
      ]
     },
     "execution_count": 13,
     "metadata": {},
     "output_type": "execute_result"
    }
   ],
   "source": [
    "data.head()"
   ]
  },
  {
   "cell_type": "code",
   "execution_count": 14,
   "metadata": {},
   "outputs": [],
   "source": [
    "timestamp=data['timestamp']\n",
    "timestamp=timestamp[:192]"
   ]
  },
  {
   "cell_type": "code",
   "execution_count": 15,
   "metadata": {},
   "outputs": [],
   "source": [
    "m=data['m1']\n",
    "m=m[:192]\n",
    "m_hat=data['m1_hat']\n",
    "m_hat=m_hat[:192]\n",
    "m=m.to_numpy()\n",
    "m_hat=m_hat.to_numpy()"
   ]
  },
  {
   "cell_type": "code",
   "execution_count": 16,
   "metadata": {},
   "outputs": [],
   "source": [
    "# timestamp is a series of timestamp values\n",
    "# m is the numpy array of actual value of a meter\n",
    "# m_hat is the numpy array of predicted values of a meter\n",
    "def evalution_metric(m,m_hat,timestamp):\n",
    "    Dt=timestamp.dt.day\n",
    "    Sum=0\n",
    "    for i in range(len(m)):\n",
    "        Sum+=np.power((m[i]-m_hat[i]),2)*np.exp(-(np.log(2)/100)*Dt[i])\n",
    "    score=(1/np.mean(m))*(np.sqrt(Sum))\n",
    "    return score"
   ]
  },
  {
   "cell_type": "code",
   "execution_count": 17,
   "metadata": {},
   "outputs": [],
   "source": [
    "value=evalution_metric(m,m_hat,timestamp)"
   ]
  },
  {
   "cell_type": "code",
   "execution_count": 18,
   "metadata": {},
   "outputs": [
    {
     "data": {
      "text/plain": [
       "7.236260614714035"
      ]
     },
     "execution_count": 18,
     "metadata": {},
     "output_type": "execute_result"
    }
   ],
   "source": [
    "value"
   ]
  }
 ],
 "metadata": {
  "kernelspec": {
   "display_name": "Python 3",
   "language": "python",
   "name": "python3"
  },
  "language_info": {
   "codemirror_mode": {
    "name": "ipython",
    "version": 3
   },
   "file_extension": ".py",
   "mimetype": "text/x-python",
   "name": "python",
   "nbconvert_exporter": "python",
   "pygments_lexer": "ipython3",
   "version": "3.6.8"
  }
 },
 "nbformat": 4,
 "nbformat_minor": 2
}
