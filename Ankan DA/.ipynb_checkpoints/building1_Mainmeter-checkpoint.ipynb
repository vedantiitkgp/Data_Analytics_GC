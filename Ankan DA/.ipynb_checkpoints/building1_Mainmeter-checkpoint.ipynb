{
 "cells": [
  {
   "cell_type": "code",
   "execution_count": 0,
   "metadata": {
    "colab": {
     "base_uri": "https://localhost:8080/",
     "height": 125
    },
    "colab_type": "code",
    "id": "lOwhIkjMOJ-s",
    "outputId": "02335115-3090-4195-f5b2-c90a1d4f7871"
   },
   "outputs": [
    {
     "name": "stdout",
     "output_type": "stream",
     "text": [
      "Go to this URL in a browser: https://accounts.google.com/o/oauth2/auth?client_id=947318989803-6bn6qk8qdgf4n4g3pfee6491hc0brc4i.apps.googleusercontent.com&redirect_uri=urn%3aietf%3awg%3aoauth%3a2.0%3aoob&response_type=code&scope=email%20https%3a%2f%2fwww.googleapis.com%2fauth%2fdocs.test%20https%3a%2f%2fwww.googleapis.com%2fauth%2fdrive%20https%3a%2f%2fwww.googleapis.com%2fauth%2fdrive.photos.readonly%20https%3a%2f%2fwww.googleapis.com%2fauth%2fpeopleapi.readonly\n",
      "\n",
      "Enter your authorization code:\n",
      "··········\n",
      "Mounted at /content/drive\n"
     ]
    }
   ],
   "source": []
  },
  {
   "cell_type": "code",
   "execution_count": 0,
   "metadata": {
    "colab": {},
    "colab_type": "code",
    "id": "mPGi28XvOLTk"
   },
   "outputs": [],
   "source": [
    "import numpy as np\n",
    "import matplotlib.pyplot as plt\n",
    "import pandas as pd"
   ]
  },
  {
   "cell_type": "code",
   "execution_count": 0,
   "metadata": {
    "colab": {},
    "colab_type": "code",
    "id": "QnWPH7OQOaFI"
   },
   "outputs": [],
   "source": [
    "df = pd.read_csv(\"/content/drive/My Drive/Inter Hall DA 2020/final_gc_anolomy.csv\")\n",
    "df\n",
    "building1 = df[df['building_number'] == 1]"
   ]
  },
  {
   "cell_type": "code",
   "execution_count": 0,
   "metadata": {
    "colab": {},
    "colab_type": "code",
    "id": "1nqu1a31OdYE"
   },
   "outputs": [],
   "source": [
    "X = building1[['day of week_0','day of week_1','day of week_2','day of week_3','day of week_4','day of week_5', 'day of week_6', 'weekend', 'corporate',]]\n",
    "y = building1['main_meter']\n",
    "y = y.to_frame()\n",
    "x_train = X[X.index < len(building1)*0.8]\n",
    "y_train = y[y.index < len(building1)*0.8]\n",
    "x_test = X[X.index >= len(building1)*0.8]\n",
    "y_test = y[y.index >= len(building1)*0.8]\n"
   ]
  },
  {
   "cell_type": "code",
   "execution_count": 0,
   "metadata": {
    "colab": {},
    "colab_type": "code",
    "id": "u_Sd7HqUOknC"
   },
   "outputs": [],
   "source": [
    "from xgboost import XGBRegressor"
   ]
  },
  {
   "cell_type": "code",
   "execution_count": 0,
   "metadata": {
    "colab": {
     "base_uri": "https://localhost:8080/",
     "height": 34
    },
    "colab_type": "code",
    "id": "oqwxB9laOpBh",
    "outputId": "8fee90b2-362f-40b1-94cb-71168baa35f1"
   },
   "outputs": [
    {
     "name": "stdout",
     "output_type": "stream",
     "text": [
      "[00:18:36] WARNING: /workspace/src/objective/regression_obj.cu:152: reg:linear is now deprecated in favor of reg:squarederror.\n"
     ]
    }
   ],
   "source": [
    "model = XGBRegressor(n_estimators=1000)\n",
    "xgb = model.fit(x_train, y_train)\n",
    "y_train_pred = model.predict(x_train)\n",
    "y_test_pred = model.predict(x_test)"
   ]
  },
  {
   "cell_type": "code",
   "execution_count": 0,
   "metadata": {
    "colab": {},
    "colab_type": "code",
    "id": "CDOXG_QQOrRT"
   },
   "outputs": [],
   "source": [
    "from sklearn.metrics import mean_squared_error, r2_score, mean_absolute_error"
   ]
  },
  {
   "cell_type": "code",
   "execution_count": 0,
   "metadata": {
    "colab": {},
    "colab_type": "code",
    "id": "qsCyycAkOv0a"
   },
   "outputs": [],
   "source": [
    "import math"
   ]
  },
  {
   "cell_type": "code",
   "execution_count": 0,
   "metadata": {
    "colab": {},
    "colab_type": "code",
    "id": "febg3dtcPBpi"
   },
   "outputs": [],
   "source": [
    "predicted_test = np.repeat(y_test_pred, 4)"
   ]
  },
  {
   "cell_type": "code",
   "execution_count": 0,
   "metadata": {
    "colab": {},
    "colab_type": "code",
    "id": "uyHoVWuDPHmd"
   },
   "outputs": [],
   "source": [
    "'''main_meter = df2['main_meter']\n",
    "main_meter = main_meter.to_frame()\n",
    "\n",
    "test_data = main_meter[main_meter.index >= len(main_meter)*0.8]'''"
   ]
  },
  {
   "cell_type": "code",
   "execution_count": 0,
   "metadata": {
    "colab": {
     "base_uri": "https://localhost:8080/",
     "height": 34
    },
    "colab_type": "code",
    "id": "8v2XjohPPJY2",
    "outputId": "571c9c3e-c1e5-4517-ba63-6e9a82940194"
   },
   "outputs": [
    {
     "data": {
      "text/plain": [
       "2323.06067867893"
      ]
     },
     "execution_count": 15,
     "metadata": {
      "tags": []
     },
     "output_type": "execute_result"
    }
   ],
   "source": [
    "rmse_test = math.sqrt(mean_squared_error(test_data, predicted_test ))\n",
    "rmse_test"
   ]
  },
  {
   "cell_type": "code",
   "execution_count": 0,
   "metadata": {
    "colab": {
     "base_uri": "https://localhost:8080/",
     "height": 34
    },
    "colab_type": "code",
    "id": "8a-Yr5TJPQ3i",
    "outputId": "c8898642-6509-4937-973f-ebddcf5f0e42"
   },
   "outputs": [
    {
     "data": {
      "text/plain": [
       "2025.0787432286459"
      ]
     },
     "execution_count": 16,
     "metadata": {
      "tags": []
     },
     "output_type": "execute_result"
    }
   ],
   "source": [
    "mean_absolute_error(test_data,predicted_test)"
   ]
  },
  {
   "cell_type": "code",
   "execution_count": 0,
   "metadata": {
    "colab": {},
    "colab_type": "code",
    "id": "rPqruwVKicgx"
   },
   "outputs": [],
   "source": [
    "train = pd.read_csv(\"/content/drive/My Drive/Inter Hall DA 2020/train.csv\")"
   ]
  },
  {
   "cell_type": "code",
   "execution_count": 0,
   "metadata": {
    "colab": {
     "base_uri": "https://localhost:8080/",
     "height": 34
    },
    "colab_type": "code",
    "id": "d0IrspDZiWoi",
    "outputId": "17333f4b-1251-4885-c6ce-2e28b94788d1"
   },
   "outputs": [
    {
     "data": {
      "text/plain": [
       "pandas.core.series.Series"
      ]
     },
     "execution_count": 13,
     "metadata": {
      "tags": []
     },
     "output_type": "execute_result"
    }
   ],
   "source": [
    "from datetime import datetime\n",
    "building1_train = train[train['building_number'] == 1]\n",
    "\n",
    "timestamp = building1_train['timestamp']\n",
    "#timestamp = timestamp.to_frame()\n",
    "test_timestamp = timestamp[timestamp.index >= len(building1_train)*0.8]\n",
    "test_timestamp = pd.to_datetime(test_timestamp, format = '%Y-%m-%d %H:%M:%S')\n",
    "type(test_timestamp)"
   ]
  },
  {
   "cell_type": "code",
   "execution_count": 0,
   "metadata": {
    "colab": {
     "base_uri": "https://localhost:8080/",
     "height": 230
    },
    "colab_type": "code",
    "id": "YNZy6hFhv-Cv",
    "outputId": "3616a183-df07-4be1-cc53-27a14d1c081a"
   },
   "outputs": [
    {
     "data": {
      "text/plain": [
       "21120   2017-11-07 00:00:00\n",
       "21121   2017-11-07 00:15:00\n",
       "21122   2017-11-07 00:30:00\n",
       "21123   2017-11-07 00:45:00\n",
       "21124   2017-11-07 01:00:00\n",
       "                ...        \n",
       "26395   2017-12-31 22:45:00\n",
       "26396   2017-12-31 23:00:00\n",
       "26397   2017-12-31 23:15:00\n",
       "26398   2017-12-31 23:30:00\n",
       "26399   2017-12-31 23:45:00\n",
       "Name: timestamp, Length: 5280, dtype: datetime64[ns]"
      ]
     },
     "execution_count": 22,
     "metadata": {
      "tags": []
     },
     "output_type": "execute_result"
    }
   ],
   "source": []
  },
  {
   "cell_type": "code",
   "execution_count": 0,
   "metadata": {
    "colab": {},
    "colab_type": "code",
    "id": "us8FV9IwmSYP"
   },
   "outputs": [],
   "source": [
    "main_meter = building1_train['main_meter']\n",
    "main_meter = main_meter.to_frame()\n",
    "\n",
    "test_data = main_meter[main_meter.index >= len(main_meter)*0.8]"
   ]
  },
  {
   "cell_type": "code",
   "execution_count": 0,
   "metadata": {
    "colab": {},
    "colab_type": "code",
    "id": "8fh1WUkiqZh5"
   },
   "outputs": [],
   "source": [
    "actual_value = np.array(test_data['main_meter'])"
   ]
  },
  {
   "cell_type": "code",
   "execution_count": 0,
   "metadata": {
    "colab": {
     "base_uri": "https://localhost:8080/",
     "height": 52
    },
    "colab_type": "code",
    "id": "R-yJ0hmZlgRM",
    "outputId": "e4d8f253-0d13-4176-c436-9a4bb3813699"
   },
   "outputs": [
    {
     "data": {
      "text/plain": [
       "array([2525.129431, 2482.918628, 2184.801917, ..., 2090.305746,\n",
       "       2007.119194, 2163.60452 ])"
      ]
     },
     "execution_count": 73,
     "metadata": {
      "tags": []
     },
     "output_type": "execute_result"
    }
   ],
   "source": [
    "actual_value   "
   ]
  },
  {
   "cell_type": "code",
   "execution_count": 0,
   "metadata": {
    "colab": {},
    "colab_type": "code",
    "id": "RVr-UcPMjavC"
   },
   "outputs": [],
   "source": [
    "import calendar\n",
    "timestamp_new = pd.Series()\n",
    "j = 0\n",
    "for i in range(21120,21120+len(test_timestamp)):\n",
    "  timestamp_new.loc[j] = test_timestamp.loc[i].day\n",
    "  j =j+1\n",
    "#timestamp_new = test_timestamp.Day"
   ]
  },
  {
   "cell_type": "code",
   "execution_count": 0,
   "metadata": {
    "colab": {
     "base_uri": "https://localhost:8080/",
     "height": 34
    },
    "colab_type": "code",
    "id": "ieZuZ9iWvmh0",
    "outputId": "d1414539-a58c-4abb-bc89-9bacb0b9ed86"
   },
   "outputs": [
    {
     "data": {
      "text/plain": [
       "7"
      ]
     },
     "execution_count": 47,
     "metadata": {
      "tags": []
     },
     "output_type": "execute_result"
    }
   ],
   "source": [
    "test_timestamp.loc[21120].day"
   ]
  },
  {
   "cell_type": "code",
   "execution_count": 0,
   "metadata": {
    "colab": {},
    "colab_type": "code",
    "id": "u0jgaSZVPfOV"
   },
   "outputs": [],
   "source": [
    "def evalution_metric(m,m_hat,Dt):\n",
    "    Dt = Dt.to_numpy()\n",
    "    Sum=0\n",
    "    for i in range(len(m)):\n",
    "        Sum+=np.power((m[i]-m_hat[i]),2)*np.exp(-(np.log(2)/100)*Dt[i])\n",
    "    score=(1/np.mean(m))*(np.sqrt(Sum))\n",
    "    return score\n",
    "  \n"
   ]
  },
  {
   "cell_type": "code",
   "execution_count": 0,
   "metadata": {
    "colab": {
     "base_uri": "https://localhost:8080/",
     "height": 34
    },
    "colab_type": "code",
    "id": "65kaV5xZjohG",
    "outputId": "5bd9d07a-aae5-47cc-c744-c12d9f304ba4"
   },
   "outputs": [
    {
     "data": {
      "text/plain": [
       "32.4327313745704"
      ]
     },
     "execution_count": 76,
     "metadata": {
      "tags": []
     },
     "output_type": "execute_result"
    }
   ],
   "source": [
    "evalution_metric(actual_value, predicted_test, timestamp_new)"
   ]
  },
  {
   "cell_type": "code",
   "execution_count": 0,
   "metadata": {
    "colab": {
     "base_uri": "https://localhost:8080/",
     "height": 34
    },
    "colab_type": "code",
    "id": "od0MoeFtlQuq",
    "outputId": "2ae3018b-f6d8-4abb-e9bf-607c39584137"
   },
   "outputs": [
    {
     "data": {
      "text/plain": [
       "(5280,)"
      ]
     },
     "execution_count": 40,
     "metadata": {
      "tags": []
     },
     "output_type": "execute_result"
    }
   ],
   "source": [
    "timestamp_new.shape"
   ]
  },
  {
   "cell_type": "code",
   "execution_count": 0,
   "metadata": {
    "colab": {
     "base_uri": "https://localhost:8080/",
     "height": 205
    },
    "colab_type": "code",
    "id": "WtKB0RFPl6j6",
    "outputId": "2c086989-031c-4602-a1da-02eacdead816"
   },
   "outputs": [
    {
     "ename": "AttributeError",
     "evalue": "ignored",
     "output_type": "error",
     "traceback": [
      "\u001b[0;31m---------------------------------------------------------------------------\u001b[0m",
      "\u001b[0;31mAttributeError\u001b[0m                            Traceback (most recent call last)",
      "\u001b[0;32m<ipython-input-107-c9be9d04f7e4>\u001b[0m in \u001b[0;36m<module>\u001b[0;34m()\u001b[0m\n\u001b[1;32m      1\u001b[0m \u001b[0mbuilding1_main_meter_pred\u001b[0m \u001b[0;34m=\u001b[0m \u001b[0mpd\u001b[0m\u001b[0;34m.\u001b[0m\u001b[0mDataFrame\u001b[0m\u001b[0;34m(\u001b[0m\u001b[0;34m)\u001b[0m\u001b[0;34m\u001b[0m\u001b[0;34m\u001b[0m\u001b[0m\n\u001b[0;32m----> 2\u001b[0;31m \u001b[0mbuilding1_main_meter_pred\u001b[0m\u001b[0;34m[\u001b[0m\u001b[0;34m'prediction'\u001b[0m\u001b[0;34m]\u001b[0m \u001b[0;34m=\u001b[0m \u001b[0mpredicted_test\u001b[0m\u001b[0;34m.\u001b[0m\u001b[0mtoarray\u001b[0m\u001b[0;34m(\u001b[0m\u001b[0;34m)\u001b[0m\u001b[0;34m.\u001b[0m\u001b[0mtolist\u001b[0m\u001b[0;34m(\u001b[0m\u001b[0;34m)\u001b[0m\u001b[0;34m\u001b[0m\u001b[0;34m\u001b[0m\u001b[0m\n\u001b[0m",
      "\u001b[0;31mAttributeError\u001b[0m: 'numpy.ndarray' object has no attribute 'toarray'"
     ]
    }
   ],
   "source": [
    "building1_main_meter_pred = pd.DataFrame()\n",
    "building1_main_meter_pred['prediction'] = predicted_test.toarray().tolist()"
   ]
  },
  {
   "cell_type": "code",
   "execution_count": 0,
   "metadata": {
    "colab": {},
    "colab_type": "code",
    "id": "ndI9BxJY5r-s"
   },
   "outputs": [],
   "source": [
    "b1_main = pd.DataFrame()\n",
    "b1_main['Predicted test'] = predicted_test\n",
    "b1_main.to_csv('b1_main.csv')"
   ]
  },
  {
   "cell_type": "code",
   "execution_count": 0,
   "metadata": {
    "colab": {},
    "colab_type": "code",
    "id": "2khtXKAimtck"
   },
   "outputs": [],
   "source": []
  }
 ],
 "metadata": {
  "colab": {
   "collapsed_sections": [],
   "name": "building1_Mainmeter.ipynb",
   "provenance": []
  },
  "kernelspec": {
   "display_name": "Python 3",
   "language": "python",
   "name": "python3"
  },
  "language_info": {
   "codemirror_mode": {
    "name": "ipython",
    "version": 3
   },
   "file_extension": ".py",
   "mimetype": "text/x-python",
   "name": "python",
   "nbconvert_exporter": "python",
   "pygments_lexer": "ipython3",
   "version": "3.7.4"
  }
 },
 "nbformat": 4,
 "nbformat_minor": 1
}
