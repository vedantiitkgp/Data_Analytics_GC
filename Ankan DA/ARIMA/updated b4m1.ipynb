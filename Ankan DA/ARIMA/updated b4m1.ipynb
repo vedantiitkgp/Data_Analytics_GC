{
 "cells": [
  {
   "cell_type": "code",
   "execution_count": 11,
   "metadata": {},
   "outputs": [],
   "source": [
    "import pandas as pd\n",
    "import numpy as np\n",
    "import matplotlib.pyplot as plt\n",
    "import seaborn as sns\n",
    "import matplotlib\n",
    "df=pd.read_csv('C:/Users/Ankan/Downloads/final_gc_anolomy.csv')"
   ]
  },
  {
   "cell_type": "code",
   "execution_count": 12,
   "metadata": {},
   "outputs": [
    {
     "data": {
      "text/html": [
       "<div>\n",
       "<style scoped>\n",
       "    .dataframe tbody tr th:only-of-type {\n",
       "        vertical-align: middle;\n",
       "    }\n",
       "\n",
       "    .dataframe tbody tr th {\n",
       "        vertical-align: top;\n",
       "    }\n",
       "\n",
       "    .dataframe thead th {\n",
       "        text-align: right;\n",
       "    }\n",
       "</style>\n",
       "<table border=\"1\" class=\"dataframe\">\n",
       "  <thead>\n",
       "    <tr style=\"text-align: right;\">\n",
       "      <th></th>\n",
       "      <th>timestamp</th>\n",
       "      <th>main_meter</th>\n",
       "      <th>sub_meter_1</th>\n",
       "      <th>sub_meter_2</th>\n",
       "      <th>building_number</th>\n",
       "      <th>weekend</th>\n",
       "      <th>corporate</th>\n",
       "      <th>main_meter_4</th>\n",
       "      <th>main_meter_12</th>\n",
       "      <th>day of week_0</th>\n",
       "      <th>day of week_1</th>\n",
       "      <th>day of week_2</th>\n",
       "      <th>day of week_3</th>\n",
       "      <th>day of week_4</th>\n",
       "      <th>day of week_5</th>\n",
       "      <th>day of week_6</th>\n",
       "    </tr>\n",
       "  </thead>\n",
       "  <tbody>\n",
       "    <tr>\n",
       "      <th>26395</th>\n",
       "      <td>2017-12-31 19:00:00</td>\n",
       "      <td>3659.553492</td>\n",
       "      <td>6.857998</td>\n",
       "      <td>1184.460127</td>\n",
       "      <td>4</td>\n",
       "      <td>1</td>\n",
       "      <td>1</td>\n",
       "      <td>8642.364573</td>\n",
       "      <td>7221.259176</td>\n",
       "      <td>0</td>\n",
       "      <td>0</td>\n",
       "      <td>0</td>\n",
       "      <td>0</td>\n",
       "      <td>0</td>\n",
       "      <td>0</td>\n",
       "      <td>1</td>\n",
       "    </tr>\n",
       "    <tr>\n",
       "      <th>26396</th>\n",
       "      <td>2017-12-31 20:00:00</td>\n",
       "      <td>3515.897324</td>\n",
       "      <td>7.327728</td>\n",
       "      <td>1224.011931</td>\n",
       "      <td>4</td>\n",
       "      <td>1</td>\n",
       "      <td>0</td>\n",
       "      <td>3425.900099</td>\n",
       "      <td>7221.259176</td>\n",
       "      <td>0</td>\n",
       "      <td>0</td>\n",
       "      <td>0</td>\n",
       "      <td>0</td>\n",
       "      <td>0</td>\n",
       "      <td>0</td>\n",
       "      <td>1</td>\n",
       "    </tr>\n",
       "    <tr>\n",
       "      <th>26397</th>\n",
       "      <td>2017-12-31 21:00:00</td>\n",
       "      <td>3217.272386</td>\n",
       "      <td>8.154114</td>\n",
       "      <td>825.583543</td>\n",
       "      <td>4</td>\n",
       "      <td>1</td>\n",
       "      <td>0</td>\n",
       "      <td>3425.900099</td>\n",
       "      <td>7221.259176</td>\n",
       "      <td>0</td>\n",
       "      <td>0</td>\n",
       "      <td>0</td>\n",
       "      <td>0</td>\n",
       "      <td>0</td>\n",
       "      <td>0</td>\n",
       "      <td>1</td>\n",
       "    </tr>\n",
       "    <tr>\n",
       "      <th>26398</th>\n",
       "      <td>2017-12-31 22:00:00</td>\n",
       "      <td>3237.189207</td>\n",
       "      <td>7.949655</td>\n",
       "      <td>961.699426</td>\n",
       "      <td>4</td>\n",
       "      <td>1</td>\n",
       "      <td>0</td>\n",
       "      <td>3425.900099</td>\n",
       "      <td>7221.259176</td>\n",
       "      <td>0</td>\n",
       "      <td>0</td>\n",
       "      <td>0</td>\n",
       "      <td>0</td>\n",
       "      <td>0</td>\n",
       "      <td>0</td>\n",
       "      <td>1</td>\n",
       "    </tr>\n",
       "    <tr>\n",
       "      <th>26399</th>\n",
       "      <td>2017-12-31 23:00:00</td>\n",
       "      <td>3733.241478</td>\n",
       "      <td>11.252074</td>\n",
       "      <td>1047.407876</td>\n",
       "      <td>4</td>\n",
       "      <td>1</td>\n",
       "      <td>0</td>\n",
       "      <td>3425.900099</td>\n",
       "      <td>7221.259176</td>\n",
       "      <td>0</td>\n",
       "      <td>0</td>\n",
       "      <td>0</td>\n",
       "      <td>0</td>\n",
       "      <td>0</td>\n",
       "      <td>0</td>\n",
       "      <td>1</td>\n",
       "    </tr>\n",
       "  </tbody>\n",
       "</table>\n",
       "</div>"
      ],
      "text/plain": [
       "                timestamp   main_meter  sub_meter_1  sub_meter_2  \\\n",
       "26395 2017-12-31 19:00:00  3659.553492     6.857998  1184.460127   \n",
       "26396 2017-12-31 20:00:00  3515.897324     7.327728  1224.011931   \n",
       "26397 2017-12-31 21:00:00  3217.272386     8.154114   825.583543   \n",
       "26398 2017-12-31 22:00:00  3237.189207     7.949655   961.699426   \n",
       "26399 2017-12-31 23:00:00  3733.241478    11.252074  1047.407876   \n",
       "\n",
       "       building_number  weekend  corporate  main_meter_4  main_meter_12  \\\n",
       "26395                4        1          1   8642.364573    7221.259176   \n",
       "26396                4        1          0   3425.900099    7221.259176   \n",
       "26397                4        1          0   3425.900099    7221.259176   \n",
       "26398                4        1          0   3425.900099    7221.259176   \n",
       "26399                4        1          0   3425.900099    7221.259176   \n",
       "\n",
       "       day of week_0  day of week_1  day of week_2  day of week_3  \\\n",
       "26395              0              0              0              0   \n",
       "26396              0              0              0              0   \n",
       "26397              0              0              0              0   \n",
       "26398              0              0              0              0   \n",
       "26399              0              0              0              0   \n",
       "\n",
       "       day of week_4  day of week_5  day of week_6  \n",
       "26395              0              0              1  \n",
       "26396              0              0              1  \n",
       "26397              0              0              1  \n",
       "26398              0              0              1  \n",
       "26399              0              0              1  "
      ]
     },
     "execution_count": 12,
     "metadata": {},
     "output_type": "execute_result"
    }
   ],
   "source": [
    "df['timestamp'] = pd.to_datetime(df['timestamp'], infer_datetime_format=True)\n",
    "df  = df[df['building_number']==4]\n",
    "df.tail()"
   ]
  },
  {
   "cell_type": "code",
   "execution_count": 13,
   "metadata": {},
   "outputs": [
    {
     "data": {
      "text/html": [
       "<div>\n",
       "<style scoped>\n",
       "    .dataframe tbody tr th:only-of-type {\n",
       "        vertical-align: middle;\n",
       "    }\n",
       "\n",
       "    .dataframe tbody tr th {\n",
       "        vertical-align: top;\n",
       "    }\n",
       "\n",
       "    .dataframe thead th {\n",
       "        text-align: right;\n",
       "    }\n",
       "</style>\n",
       "<table border=\"1\" class=\"dataframe\">\n",
       "  <thead>\n",
       "    <tr style=\"text-align: right;\">\n",
       "      <th></th>\n",
       "      <th>sub_meter_1</th>\n",
       "    </tr>\n",
       "    <tr>\n",
       "      <th>timestamp</th>\n",
       "      <th></th>\n",
       "    </tr>\n",
       "  </thead>\n",
       "  <tbody>\n",
       "    <tr>\n",
       "      <th>2017-01-04 00:00:00</th>\n",
       "      <td>6.138407</td>\n",
       "    </tr>\n",
       "    <tr>\n",
       "      <th>2017-01-04 01:00:00</th>\n",
       "      <td>11.876920</td>\n",
       "    </tr>\n",
       "    <tr>\n",
       "      <th>2017-01-04 02:00:00</th>\n",
       "      <td>4.487273</td>\n",
       "    </tr>\n",
       "    <tr>\n",
       "      <th>2017-01-04 03:00:00</th>\n",
       "      <td>6.518857</td>\n",
       "    </tr>\n",
       "    <tr>\n",
       "      <th>2017-01-04 04:00:00</th>\n",
       "      <td>8.103356</td>\n",
       "    </tr>\n",
       "  </tbody>\n",
       "</table>\n",
       "</div>"
      ],
      "text/plain": [
       "                     sub_meter_1\n",
       "timestamp                       \n",
       "2017-01-04 00:00:00     6.138407\n",
       "2017-01-04 01:00:00    11.876920\n",
       "2017-01-04 02:00:00     4.487273\n",
       "2017-01-04 03:00:00     6.518857\n",
       "2017-01-04 04:00:00     8.103356"
      ]
     },
     "execution_count": 13,
     "metadata": {},
     "output_type": "execute_result"
    }
   ],
   "source": [
    "df=df.drop(columns=['sub_meter_2','main_meter','building_number','weekend','corporate','main_meter_4','main_meter_12','day of week_0','day of week_1','day of week_2','day of week_3','day of week_4','day of week_5','day of week_6'])\n",
    "df=df.set_index('timestamp')\n",
    "df.head()"
   ]
  },
  {
   "cell_type": "code",
   "execution_count": 14,
   "metadata": {},
   "outputs": [
    {
     "data": {
      "text/plain": [
       "<matplotlib.axes._subplots.AxesSubplot at 0x27d35de33c8>"
      ]
     },
     "execution_count": 14,
     "metadata": {},
     "output_type": "execute_result"
    },
    {
     "data": {
      "image/png": "[encoded data removed]",
      "text/plain": [
       "<Figure size 720x432 with 1 Axes>"
      ]
     },
     "metadata": {
      "needs_background": "light"
     },
     "output_type": "display_data"
    }
   ],
   "source": [
    "from plotly.offline import plot\n",
    "import cufflinks as cf\n",
    "df.plot(title=\"Main Meter 1 Readings\", figsize=(10,6))"
   ]
  },
  {
   "cell_type": "code",
   "execution_count": 15,
   "metadata": {},
   "outputs": [
    {
     "data": {
      "image/png": "[encoded data removed]",
      "text/plain": [
       "<Figure size 432x288 with 4 Axes>"
      ]
     },
     "metadata": {
      "needs_background": "light"
     },
     "output_type": "display_data"
    }
   ],
   "source": [
    "from chart_studio.plotly import plot_mpl\n",
    "from statsmodels.tsa.seasonal import seasonal_decompose\n",
    "result = seasonal_decompose(df, model='additive',period=168)\n",
    "fig=result.plot()"
   ]
  },
  {
   "cell_type": "code",
   "execution_count": 19,
   "metadata": {},
   "outputs": [
    {
     "name": "stdout",
     "output_type": "stream",
     "text": [
      "Fit ARIMA: order=(1, 0, 1); AIC=96896.694, BIC=96923.873, Fit time=0.960 seconds\n",
      "Fit ARIMA: order=(0, 0, 0); AIC=109529.430, BIC=109543.019, Fit time=0.002 seconds\n",
      "Fit ARIMA: order=(1, 0, 0); AIC=98160.058, BIC=98180.442, Fit time=0.117 seconds\n",
      "Fit ARIMA: order=(0, 0, 1); AIC=102768.602, BIC=102788.986, Fit time=0.388 seconds\n",
      "Fit ARIMA: order=(2, 0, 1); AIC=96524.508, BIC=96558.483, Fit time=1.289 seconds\n",
      "Fit ARIMA: order=(2, 0, 0); AIC=96725.057, BIC=96752.236, Fit time=0.218 seconds\n",
      "Fit ARIMA: order=(2, 0, 2); AIC=96166.775, BIC=96207.544, Fit time=2.318 seconds\n",
      "Fit ARIMA: order=(3, 0, 3); AIC=95091.642, BIC=95146.001, Fit time=35.428 seconds\n",
      "Fit ARIMA: order=(2, 0, 3); AIC=96099.128, BIC=96146.692, Fit time=2.300 seconds\n",
      "Fit ARIMA: order=(4, 0, 3); AIC=95086.009, BIC=95147.163, Fit time=16.181 seconds\n",
      "Fit ARIMA: order=(4, 0, 2); AIC=96115.050, BIC=96169.409, Fit time=2.246 seconds\n",
      "Fit ARIMA: order=(4, 0, 4); AIC=95621.083, BIC=95689.031, Fit time=10.527 seconds\n",
      "Fit ARIMA: order=(3, 0, 2); AIC=96114.090, BIC=96161.653, Fit time=1.972 seconds\n",
      "Fit ARIMA: order=(5, 0, 4); AIC=95656.288, BIC=95731.031, Fit time=15.851 seconds\n",
      "Fit ARIMA: order=(5, 0, 3); AIC=nan, BIC=nan, Fit time=nan seconds\n",
      "Total fit time: 90.838 seconds\n",
      "95086.00945451815\n"
     ]
    }
   ],
   "source": [
    "from pmdarima import auto_arima\n",
    "stepwise_model = auto_arima(df, start_p=1, start_q=1,\n",
    "                           max_p=5, max_q=5,\n",
    "                           start_P=0, seasonal=False,\n",
    "                           d=0, D=1, trace=True,\n",
    "                           error_action='ignore',  \n",
    "                           suppress_warnings=True, \n",
    "                           stepwise=True)\n",
    "print(stepwise_model.aic())"
   ]
  },
  {
   "cell_type": "code",
   "execution_count": 20,
   "metadata": {},
   "outputs": [
    {
     "data": {
      "text/plain": [
       "ARIMA(callback=None, disp=0, maxiter=None, method=None, order=(4, 0, 3),\n",
       "      out_of_sample_size=0, scoring='mse', scoring_args={}, seasonal_order=None,\n",
       "      solver='lbfgs', start_params=None, suppress_warnings=True,\n",
       "      transparams=True, trend=None, with_intercept=True)"
      ]
     },
     "execution_count": 20,
     "metadata": {},
     "output_type": "execute_result"
    }
   ],
   "source": [
    "train = df.loc['01-04-2017 00:00:00':'07-11-2017 00:00:00']\n",
    "test = df.loc['07-11-2017 00:00:00':]\n",
    "stepwise_model.fit(train)"
   ]
  },
  {
   "cell_type": "code",
   "execution_count": 21,
   "metadata": {},
   "outputs": [
    {
     "data": {
      "text/plain": [
       "array([ 41.11237701,  69.70314257, 146.42545162, ..., 651.64873119,\n",
       "       507.55178743, 396.7634126 ])"
      ]
     },
     "execution_count": 21,
     "metadata": {},
     "output_type": "execute_result"
    }
   ],
   "source": [
    "future_forecast = stepwise_model.predict(n_periods=1320)\n",
    "future_forecast"
   ]
  },
  {
   "cell_type": "code",
   "execution_count": 22,
   "metadata": {},
   "outputs": [],
   "source": [
    "a=pd.DataFrame(data=future_forecast)\n",
    "a.to_csv('updatedb4m2.csv')"
   ]
  },
  {
   "cell_type": "markdown",
   "metadata": {},
   "source": [
    "# add the code to show actual vs predicted\n"
   ]
  },
  {
   "cell_type": "code",
   "execution_count": null,
   "metadata": {},
   "outputs": [],
   "source": []
  }
 ],
 "metadata": {
  "kernelspec": {
   "display_name": "Python 3",
   "language": "python",
   "name": "python3"
  },
  "language_info": {
   "codemirror_mode": {
    "name": "ipython",
    "version": 3
   },
   "file_extension": ".py",
   "mimetype": "text/x-python",
   "name": "python",
   "nbconvert_exporter": "python",
   "pygments_lexer": "ipython3",
   "version": "3.7.3"
  }
 },
 "nbformat": 4,
 "nbformat_minor": 2
}
