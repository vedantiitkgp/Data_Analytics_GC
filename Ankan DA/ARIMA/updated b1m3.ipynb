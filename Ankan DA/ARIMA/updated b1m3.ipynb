{
 "cells": [
  {
   "cell_type": "code",
   "execution_count": 28,
   "metadata": {},
   "outputs": [],
   "source": [
    "import pandas as pd\n",
    "import numpy as np\n",
    "import matplotlib.pyplot as plt\n",
    "import seaborn as sns\n",
    "import matplotlib\n",
    "df=pd.read_csv('C:/Users/Ankan/Downloads/final_gc_anolomy.csv')"
   ]
  },
  {
   "cell_type": "code",
   "execution_count": 29,
   "metadata": {},
   "outputs": [
    {
     "data": {
      "text/html": [
       "<div>\n",
       "<style scoped>\n",
       "    .dataframe tbody tr th:only-of-type {\n",
       "        vertical-align: middle;\n",
       "    }\n",
       "\n",
       "    .dataframe tbody tr th {\n",
       "        vertical-align: top;\n",
       "    }\n",
       "\n",
       "    .dataframe thead th {\n",
       "        text-align: right;\n",
       "    }\n",
       "</style>\n",
       "<table border=\"1\" class=\"dataframe\">\n",
       "  <thead>\n",
       "    <tr style=\"text-align: right;\">\n",
       "      <th></th>\n",
       "      <th>timestamp</th>\n",
       "      <th>main_meter</th>\n",
       "      <th>sub_meter_1</th>\n",
       "      <th>sub_meter_2</th>\n",
       "      <th>building_number</th>\n",
       "      <th>weekend</th>\n",
       "      <th>corporate</th>\n",
       "      <th>main_meter_4</th>\n",
       "      <th>main_meter_12</th>\n",
       "      <th>day of week_0</th>\n",
       "      <th>day of week_1</th>\n",
       "      <th>day of week_2</th>\n",
       "      <th>day of week_3</th>\n",
       "      <th>day of week_4</th>\n",
       "      <th>day of week_5</th>\n",
       "      <th>day of week_6</th>\n",
       "    </tr>\n",
       "  </thead>\n",
       "  <tbody>\n",
       "    <tr>\n",
       "      <th>6595</th>\n",
       "      <td>2017-12-31 19:00:00</td>\n",
       "      <td>2021.301929</td>\n",
       "      <td>957.024631</td>\n",
       "      <td>0.582683</td>\n",
       "      <td>1</td>\n",
       "      <td>1</td>\n",
       "      <td>1</td>\n",
       "      <td>5036.960165</td>\n",
       "      <td>4980.005262</td>\n",
       "      <td>0</td>\n",
       "      <td>0</td>\n",
       "      <td>0</td>\n",
       "      <td>0</td>\n",
       "      <td>0</td>\n",
       "      <td>0</td>\n",
       "      <td>1</td>\n",
       "    </tr>\n",
       "    <tr>\n",
       "      <th>6596</th>\n",
       "      <td>2017-12-31 20:00:00</td>\n",
       "      <td>1848.036869</td>\n",
       "      <td>719.780383</td>\n",
       "      <td>0.000000</td>\n",
       "      <td>1</td>\n",
       "      <td>1</td>\n",
       "      <td>0</td>\n",
       "      <td>1963.289479</td>\n",
       "      <td>4980.005262</td>\n",
       "      <td>0</td>\n",
       "      <td>0</td>\n",
       "      <td>0</td>\n",
       "      <td>0</td>\n",
       "      <td>0</td>\n",
       "      <td>0</td>\n",
       "      <td>1</td>\n",
       "    </tr>\n",
       "    <tr>\n",
       "      <th>6597</th>\n",
       "      <td>2017-12-31 21:00:00</td>\n",
       "      <td>1964.453574</td>\n",
       "      <td>742.286785</td>\n",
       "      <td>1.532929</td>\n",
       "      <td>1</td>\n",
       "      <td>1</td>\n",
       "      <td>0</td>\n",
       "      <td>1963.289479</td>\n",
       "      <td>4980.005262</td>\n",
       "      <td>0</td>\n",
       "      <td>0</td>\n",
       "      <td>0</td>\n",
       "      <td>0</td>\n",
       "      <td>0</td>\n",
       "      <td>0</td>\n",
       "      <td>1</td>\n",
       "    </tr>\n",
       "    <tr>\n",
       "      <th>6598</th>\n",
       "      <td>2017-12-31 22:00:00</td>\n",
       "      <td>1967.172923</td>\n",
       "      <td>841.157701</td>\n",
       "      <td>2.498131</td>\n",
       "      <td>1</td>\n",
       "      <td>1</td>\n",
       "      <td>0</td>\n",
       "      <td>1963.289479</td>\n",
       "      <td>4980.005262</td>\n",
       "      <td>0</td>\n",
       "      <td>0</td>\n",
       "      <td>0</td>\n",
       "      <td>0</td>\n",
       "      <td>0</td>\n",
       "      <td>0</td>\n",
       "      <td>1</td>\n",
       "    </tr>\n",
       "    <tr>\n",
       "      <th>6599</th>\n",
       "      <td>2017-12-31 23:00:00</td>\n",
       "      <td>2073.494552</td>\n",
       "      <td>862.065882</td>\n",
       "      <td>1.651296</td>\n",
       "      <td>1</td>\n",
       "      <td>1</td>\n",
       "      <td>0</td>\n",
       "      <td>1963.289479</td>\n",
       "      <td>4980.005262</td>\n",
       "      <td>0</td>\n",
       "      <td>0</td>\n",
       "      <td>0</td>\n",
       "      <td>0</td>\n",
       "      <td>0</td>\n",
       "      <td>0</td>\n",
       "      <td>1</td>\n",
       "    </tr>\n",
       "  </tbody>\n",
       "</table>\n",
       "</div>"
      ],
      "text/plain": [
       "               timestamp   main_meter  sub_meter_1  sub_meter_2  \\\n",
       "6595 2017-12-31 19:00:00  2021.301929   957.024631     0.582683   \n",
       "6596 2017-12-31 20:00:00  1848.036869   719.780383     0.000000   \n",
       "6597 2017-12-31 21:00:00  1964.453574   742.286785     1.532929   \n",
       "6598 2017-12-31 22:00:00  1967.172923   841.157701     2.498131   \n",
       "6599 2017-12-31 23:00:00  2073.494552   862.065882     1.651296   \n",
       "\n",
       "      building_number  weekend  corporate  main_meter_4  main_meter_12  \\\n",
       "6595                1        1          1   5036.960165    4980.005262   \n",
       "6596                1        1          0   1963.289479    4980.005262   \n",
       "6597                1        1          0   1963.289479    4980.005262   \n",
       "6598                1        1          0   1963.289479    4980.005262   \n",
       "6599                1        1          0   1963.289479    4980.005262   \n",
       "\n",
       "      day of week_0  day of week_1  day of week_2  day of week_3  \\\n",
       "6595              0              0              0              0   \n",
       "6596              0              0              0              0   \n",
       "6597              0              0              0              0   \n",
       "6598              0              0              0              0   \n",
       "6599              0              0              0              0   \n",
       "\n",
       "      day of week_4  day of week_5  day of week_6  \n",
       "6595              0              0              1  \n",
       "6596              0              0              1  \n",
       "6597              0              0              1  \n",
       "6598              0              0              1  \n",
       "6599              0              0              1  "
      ]
     },
     "execution_count": 29,
     "metadata": {},
     "output_type": "execute_result"
    }
   ],
   "source": [
    "df['timestamp'] = pd.to_datetime(df['timestamp'], infer_datetime_format=True)\n",
    "df  = df[df['building_number']==1]\n",
    "df.tail()"
   ]
  },
  {
   "cell_type": "code",
   "execution_count": 30,
   "metadata": {},
   "outputs": [
    {
     "data": {
      "text/html": [
       "<div>\n",
       "<style scoped>\n",
       "    .dataframe tbody tr th:only-of-type {\n",
       "        vertical-align: middle;\n",
       "    }\n",
       "\n",
       "    .dataframe tbody tr th {\n",
       "        vertical-align: top;\n",
       "    }\n",
       "\n",
       "    .dataframe thead th {\n",
       "        text-align: right;\n",
       "    }\n",
       "</style>\n",
       "<table border=\"1\" class=\"dataframe\">\n",
       "  <thead>\n",
       "    <tr style=\"text-align: right;\">\n",
       "      <th></th>\n",
       "      <th>sub_meter_2</th>\n",
       "    </tr>\n",
       "    <tr>\n",
       "      <th>timestamp</th>\n",
       "      <th></th>\n",
       "    </tr>\n",
       "  </thead>\n",
       "  <tbody>\n",
       "    <tr>\n",
       "      <th>2017-01-04 00:00:00</th>\n",
       "      <td>0.450666</td>\n",
       "    </tr>\n",
       "    <tr>\n",
       "      <th>2017-01-04 01:00:00</th>\n",
       "      <td>1.377337</td>\n",
       "    </tr>\n",
       "    <tr>\n",
       "      <th>2017-01-04 02:00:00</th>\n",
       "      <td>3.915958</td>\n",
       "    </tr>\n",
       "    <tr>\n",
       "      <th>2017-01-04 03:00:00</th>\n",
       "      <td>0.084493</td>\n",
       "    </tr>\n",
       "    <tr>\n",
       "      <th>2017-01-04 04:00:00</th>\n",
       "      <td>0.155445</td>\n",
       "    </tr>\n",
       "  </tbody>\n",
       "</table>\n",
       "</div>"
      ],
      "text/plain": [
       "                     sub_meter_2\n",
       "timestamp                       \n",
       "2017-01-04 00:00:00     0.450666\n",
       "2017-01-04 01:00:00     1.377337\n",
       "2017-01-04 02:00:00     3.915958\n",
       "2017-01-04 03:00:00     0.084493\n",
       "2017-01-04 04:00:00     0.155445"
      ]
     },
     "execution_count": 30,
     "metadata": {},
     "output_type": "execute_result"
    }
   ],
   "source": [
    "df=df.drop(columns=['main_meter','sub_meter_1','building_number','weekend','corporate','main_meter_4','main_meter_12','day of week_0','day of week_1','day of week_2','day of week_3','day of week_4','day of week_5','day of week_6'])\n",
    "df=df.set_index('timestamp')\n",
    "df.head()"
   ]
  },
  {
   "cell_type": "code",
   "execution_count": 31,
   "metadata": {},
   "outputs": [
    {
     "data": {
      "text/plain": [
       "<matplotlib.axes._subplots.AxesSubplot at 0x1b88062f6a0>"
      ]
     },
     "execution_count": 31,
     "metadata": {},
     "output_type": "execute_result"
    },
    {
     "data": {
      "image/png": "[encoded data removed]",
      "text/plain": [
       "<Figure size 720x432 with 1 Axes>"
      ]
     },
     "metadata": {
      "needs_background": "light"
     },
     "output_type": "display_data"
    }
   ],
   "source": [
    "from plotly.offline import plot\n",
    "import cufflinks as cf\n",
    "df.plot(title=\"Main Meter 1 Readings\", figsize=(10,6))"
   ]
  },
  {
   "cell_type": "code",
   "execution_count": 32,
   "metadata": {},
   "outputs": [
    {
     "data": {
      "image/png": "[encoded data removed]",
      "text/plain": [
       "<Figure size 432x288 with 4 Axes>"
      ]
     },
     "metadata": {
      "needs_background": "light"
     },
     "output_type": "display_data"
    }
   ],
   "source": [
    "from chart_studio.plotly import plot_mpl\n",
    "from statsmodels.tsa.seasonal import seasonal_decompose\n",
    "result = seasonal_decompose(df, model='additive',period=168)\n",
    "fig=result.plot()"
   ]
  },
  {
   "cell_type": "code",
   "execution_count": 33,
   "metadata": {},
   "outputs": [
    {
     "name": "stdout",
     "output_type": "stream",
     "text": [
      "Fit ARIMA: order=(1, 1, 1); AIC=85260.479, BIC=85287.658, Fit time=0.861 seconds\n",
      "Fit ARIMA: order=(0, 1, 0); AIC=85538.749, BIC=85552.339, Fit time=0.000 seconds\n",
      "Fit ARIMA: order=(1, 1, 0); AIC=85285.067, BIC=85305.451, Fit time=0.031 seconds\n",
      "Fit ARIMA: order=(0, 1, 1); AIC=85262.012, BIC=85282.396, Fit time=0.016 seconds\n",
      "Fit ARIMA: order=(2, 1, 1); AIC=84576.824, BIC=84610.797, Fit time=3.942 seconds\n",
      "Fit ARIMA: order=(2, 1, 0); AIC=85261.374, BIC=85288.553, Fit time=0.046 seconds\n",
      "Fit ARIMA: order=(2, 1, 2); AIC=84204.497, BIC=84245.265, Fit time=26.947 seconds\n",
      "Fit ARIMA: order=(3, 1, 3); AIC=84049.349, BIC=84103.706, Fit time=15.291 seconds\n",
      "Fit ARIMA: order=(2, 1, 3); AIC=84349.499, BIC=84397.062, Fit time=5.983 seconds\n",
      "Fit ARIMA: order=(4, 1, 3); AIC=83870.139, BIC=83931.291, Fit time=37.788 seconds\n",
      "Fit ARIMA: order=(4, 1, 2); AIC=84345.142, BIC=84399.499, Fit time=10.477 seconds\n",
      "Fit ARIMA: order=(4, 1, 4); AIC=83752.646, BIC=83820.592, Fit time=145.973 seconds\n",
      "Fit ARIMA: order=(5, 1, 5); AIC=83583.543, BIC=83665.079, Fit time=87.562 seconds\n",
      "Fit ARIMA: order=(4, 1, 5); AIC=83421.201, BIC=83495.943, Fit time=61.209 seconds\n",
      "Fit ARIMA: order=(3, 1, 4); AIC=84177.841, BIC=84238.993, Fit time=33.925 seconds\n",
      "Fit ARIMA: order=(3, 1, 5); AIC=83147.524, BIC=83215.471, Fit time=20.042 seconds\n",
      "Fit ARIMA: order=(2, 1, 4); AIC=83620.075, BIC=83674.433, Fit time=7.492 seconds\n",
      "Fit ARIMA: order=(2, 1, 5); AIC=84156.478, BIC=84217.630, Fit time=12.095 seconds\n",
      "Total fit time: 469.687 seconds\n",
      "83147.52397767403\n"
     ]
    }
   ],
   "source": [
    "from pmdarima import auto_arima\n",
    "stepwise_model = auto_arima(df, start_p=1, start_q=1,\n",
    "                           max_p=5, max_q=5,\n",
    "                           start_P=0, seasonal=False,\n",
    "                           d=1, D=1, trace=True,\n",
    "                           error_action='ignore',  \n",
    "                           suppress_warnings=True, \n",
    "                           stepwise=True)\n",
    "print(stepwise_model.aic())"
   ]
  },
  {
   "cell_type": "code",
   "execution_count": 34,
   "metadata": {},
   "outputs": [
    {
     "data": {
      "text/plain": [
       "ARIMA(callback=None, disp=0, maxiter=None, method=None, order=(3, 1, 5),\n",
       "      out_of_sample_size=0, scoring='mse', scoring_args={}, seasonal_order=None,\n",
       "      solver='lbfgs', start_params=None, suppress_warnings=True,\n",
       "      transparams=True, trend=None, with_intercept=True)"
      ]
     },
     "execution_count": 34,
     "metadata": {},
     "output_type": "execute_result"
    }
   ],
   "source": [
    "train = df.loc['01-04-2017 00:00:00':'07-11-2017 00:00:00']\n",
    "test = df.loc['07-11-2017 00:00:00':]\n",
    "stepwise_model.fit(train)"
   ]
  },
  {
   "cell_type": "code",
   "execution_count": 35,
   "metadata": {},
   "outputs": [
    {
     "data": {
      "text/plain": [
       "array([ 53.29842701,  34.91259068,  98.00203561, ..., 186.69523858,\n",
       "       154.36098605,  84.03986631])"
      ]
     },
     "execution_count": 35,
     "metadata": {},
     "output_type": "execute_result"
    }
   ],
   "source": [
    "future_forecast = stepwise_model.predict(n_periods=1320)\n",
    "future_forecast"
   ]
  },
  {
   "cell_type": "code",
   "execution_count": 36,
   "metadata": {},
   "outputs": [],
   "source": [
    "a=pd.DataFrame(data=future_forecast)\n",
    "a.to_csv('updatedb1m3.csv')"
   ]
  },
  {
   "cell_type": "markdown",
   "metadata": {},
   "source": [
    "# add the code to show actual vs predicted\n"
   ]
  },
  {
   "cell_type": "code",
   "execution_count": null,
   "metadata": {},
   "outputs": [],
   "source": []
  }
 ],
 "metadata": {
  "kernelspec": {
   "display_name": "Python 3",
   "language": "python",
   "name": "python3"
  },
  "language_info": {
   "codemirror_mode": {
    "name": "ipython",
    "version": 3
   },
   "file_extension": ".py",
   "mimetype": "text/x-python",
   "name": "python",
   "nbconvert_exporter": "python",
   "pygments_lexer": "ipython3",
   "version": "3.7.3"
  }
 },
 "nbformat": 4,
 "nbformat_minor": 2
}
