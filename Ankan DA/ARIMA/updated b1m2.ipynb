{
 "cells": [
  {
   "cell_type": "code",
   "execution_count": 82,
   "metadata": {},
   "outputs": [],
   "source": [
    "import pandas as pd\n",
    "import numpy as np\n",
    "import matplotlib.pyplot as plt\n",
    "import seaborn as sns\n",
    "import matplotlib\n",
    "df=pd.read_csv('C:/Users/Ankan/Downloads/final_gc_anolomy.csv')"
   ]
  },
  {
   "cell_type": "code",
   "execution_count": 83,
   "metadata": {},
   "outputs": [
    {
     "data": {
      "text/html": [
       "<div>\n",
       "<style scoped>\n",
       "    .dataframe tbody tr th:only-of-type {\n",
       "        vertical-align: middle;\n",
       "    }\n",
       "\n",
       "    .dataframe tbody tr th {\n",
       "        vertical-align: top;\n",
       "    }\n",
       "\n",
       "    .dataframe thead th {\n",
       "        text-align: right;\n",
       "    }\n",
       "</style>\n",
       "<table border=\"1\" class=\"dataframe\">\n",
       "  <thead>\n",
       "    <tr style=\"text-align: right;\">\n",
       "      <th></th>\n",
       "      <th>timestamp</th>\n",
       "      <th>main_meter</th>\n",
       "      <th>sub_meter_1</th>\n",
       "      <th>sub_meter_2</th>\n",
       "      <th>building_number</th>\n",
       "      <th>weekend</th>\n",
       "      <th>corporate</th>\n",
       "      <th>main_meter_4</th>\n",
       "      <th>main_meter_12</th>\n",
       "      <th>day of week_0</th>\n",
       "      <th>day of week_1</th>\n",
       "      <th>day of week_2</th>\n",
       "      <th>day of week_3</th>\n",
       "      <th>day of week_4</th>\n",
       "      <th>day of week_5</th>\n",
       "      <th>day of week_6</th>\n",
       "    </tr>\n",
       "  </thead>\n",
       "  <tbody>\n",
       "    <tr>\n",
       "      <th>0</th>\n",
       "      <td>2017-01-04 00:00:00</td>\n",
       "      <td>2452.453706</td>\n",
       "      <td>947.170207</td>\n",
       "      <td>0.450666</td>\n",
       "      <td>1</td>\n",
       "      <td>1</td>\n",
       "      <td>0</td>\n",
       "      <td>2713.659481</td>\n",
       "      <td>3778.895815</td>\n",
       "      <td>0</td>\n",
       "      <td>0</td>\n",
       "      <td>0</td>\n",
       "      <td>0</td>\n",
       "      <td>0</td>\n",
       "      <td>1</td>\n",
       "      <td>0</td>\n",
       "    </tr>\n",
       "    <tr>\n",
       "      <th>1</th>\n",
       "      <td>2017-01-04 01:00:00</td>\n",
       "      <td>2722.733293</td>\n",
       "      <td>1142.593908</td>\n",
       "      <td>1.377337</td>\n",
       "      <td>1</td>\n",
       "      <td>1</td>\n",
       "      <td>0</td>\n",
       "      <td>2713.659481</td>\n",
       "      <td>3778.895815</td>\n",
       "      <td>0</td>\n",
       "      <td>0</td>\n",
       "      <td>0</td>\n",
       "      <td>0</td>\n",
       "      <td>0</td>\n",
       "      <td>1</td>\n",
       "      <td>0</td>\n",
       "    </tr>\n",
       "    <tr>\n",
       "      <th>2</th>\n",
       "      <td>2017-01-04 02:00:00</td>\n",
       "      <td>2875.868294</td>\n",
       "      <td>1325.265793</td>\n",
       "      <td>3.915958</td>\n",
       "      <td>1</td>\n",
       "      <td>1</td>\n",
       "      <td>0</td>\n",
       "      <td>2713.659481</td>\n",
       "      <td>3778.895815</td>\n",
       "      <td>0</td>\n",
       "      <td>0</td>\n",
       "      <td>0</td>\n",
       "      <td>0</td>\n",
       "      <td>0</td>\n",
       "      <td>1</td>\n",
       "      <td>0</td>\n",
       "    </tr>\n",
       "    <tr>\n",
       "      <th>3</th>\n",
       "      <td>2017-01-04 03:00:00</td>\n",
       "      <td>2803.582630</td>\n",
       "      <td>1279.729428</td>\n",
       "      <td>0.084493</td>\n",
       "      <td>1</td>\n",
       "      <td>1</td>\n",
       "      <td>0</td>\n",
       "      <td>2713.659481</td>\n",
       "      <td>3778.895815</td>\n",
       "      <td>0</td>\n",
       "      <td>0</td>\n",
       "      <td>0</td>\n",
       "      <td>0</td>\n",
       "      <td>0</td>\n",
       "      <td>1</td>\n",
       "      <td>0</td>\n",
       "    </tr>\n",
       "    <tr>\n",
       "      <th>4</th>\n",
       "      <td>2017-01-04 04:00:00</td>\n",
       "      <td>2465.531768</td>\n",
       "      <td>922.310425</td>\n",
       "      <td>0.155445</td>\n",
       "      <td>1</td>\n",
       "      <td>1</td>\n",
       "      <td>0</td>\n",
       "      <td>3931.024433</td>\n",
       "      <td>3778.895815</td>\n",
       "      <td>0</td>\n",
       "      <td>0</td>\n",
       "      <td>0</td>\n",
       "      <td>0</td>\n",
       "      <td>0</td>\n",
       "      <td>1</td>\n",
       "      <td>0</td>\n",
       "    </tr>\n",
       "  </tbody>\n",
       "</table>\n",
       "</div>"
      ],
      "text/plain": [
       "            timestamp   main_meter  sub_meter_1  sub_meter_2  building_number  \\\n",
       "0 2017-01-04 00:00:00  2452.453706   947.170207     0.450666                1   \n",
       "1 2017-01-04 01:00:00  2722.733293  1142.593908     1.377337                1   \n",
       "2 2017-01-04 02:00:00  2875.868294  1325.265793     3.915958                1   \n",
       "3 2017-01-04 03:00:00  2803.582630  1279.729428     0.084493                1   \n",
       "4 2017-01-04 04:00:00  2465.531768   922.310425     0.155445                1   \n",
       "\n",
       "   weekend  corporate  main_meter_4  main_meter_12  day of week_0  \\\n",
       "0        1          0   2713.659481    3778.895815              0   \n",
       "1        1          0   2713.659481    3778.895815              0   \n",
       "2        1          0   2713.659481    3778.895815              0   \n",
       "3        1          0   2713.659481    3778.895815              0   \n",
       "4        1          0   3931.024433    3778.895815              0   \n",
       "\n",
       "   day of week_1  day of week_2  day of week_3  day of week_4  day of week_5  \\\n",
       "0              0              0              0              0              1   \n",
       "1              0              0              0              0              1   \n",
       "2              0              0              0              0              1   \n",
       "3              0              0              0              0              1   \n",
       "4              0              0              0              0              1   \n",
       "\n",
       "   day of week_6  \n",
       "0              0  \n",
       "1              0  \n",
       "2              0  \n",
       "3              0  \n",
       "4              0  "
      ]
     },
     "execution_count": 83,
     "metadata": {},
     "output_type": "execute_result"
    }
   ],
   "source": [
    "df['timestamp'] = pd.to_datetime(df['timestamp'], infer_datetime_format=True)\n",
    "df  = df[df['building_number']==1]\n",
    "df.head()"
   ]
  },
  {
   "cell_type": "code",
   "execution_count": 84,
   "metadata": {},
   "outputs": [
    {
     "data": {
      "text/html": [
       "<div>\n",
       "<style scoped>\n",
       "    .dataframe tbody tr th:only-of-type {\n",
       "        vertical-align: middle;\n",
       "    }\n",
       "\n",
       "    .dataframe tbody tr th {\n",
       "        vertical-align: top;\n",
       "    }\n",
       "\n",
       "    .dataframe thead th {\n",
       "        text-align: right;\n",
       "    }\n",
       "</style>\n",
       "<table border=\"1\" class=\"dataframe\">\n",
       "  <thead>\n",
       "    <tr style=\"text-align: right;\">\n",
       "      <th></th>\n",
       "      <th>sub_meter_1</th>\n",
       "    </tr>\n",
       "    <tr>\n",
       "      <th>timestamp</th>\n",
       "      <th></th>\n",
       "    </tr>\n",
       "  </thead>\n",
       "  <tbody>\n",
       "    <tr>\n",
       "      <th>2017-01-04 00:00:00</th>\n",
       "      <td>947.170207</td>\n",
       "    </tr>\n",
       "    <tr>\n",
       "      <th>2017-01-04 01:00:00</th>\n",
       "      <td>1142.593908</td>\n",
       "    </tr>\n",
       "    <tr>\n",
       "      <th>2017-01-04 02:00:00</th>\n",
       "      <td>1325.265793</td>\n",
       "    </tr>\n",
       "    <tr>\n",
       "      <th>2017-01-04 03:00:00</th>\n",
       "      <td>1279.729428</td>\n",
       "    </tr>\n",
       "    <tr>\n",
       "      <th>2017-01-04 04:00:00</th>\n",
       "      <td>922.310425</td>\n",
       "    </tr>\n",
       "  </tbody>\n",
       "</table>\n",
       "</div>"
      ],
      "text/plain": [
       "                     sub_meter_1\n",
       "timestamp                       \n",
       "2017-01-04 00:00:00   947.170207\n",
       "2017-01-04 01:00:00  1142.593908\n",
       "2017-01-04 02:00:00  1325.265793\n",
       "2017-01-04 03:00:00  1279.729428\n",
       "2017-01-04 04:00:00   922.310425"
      ]
     },
     "execution_count": 84,
     "metadata": {},
     "output_type": "execute_result"
    }
   ],
   "source": [
    "df=df.drop(columns=['main_meter','sub_meter_2','building_number','weekend','corporate','main_meter_4','main_meter_12','day of week_0','day of week_1','day of week_2','day of week_3','day of week_4','day of week_5','day of week_6'])\n",
    "df=df.set_index('timestamp')\n",
    "df.head()"
   ]
  },
  {
   "cell_type": "code",
   "execution_count": 85,
   "metadata": {},
   "outputs": [
    {
     "data": {
      "text/plain": [
       "<matplotlib.axes._subplots.AxesSubplot at 0x2342c38e518>"
      ]
     },
     "execution_count": 85,
     "metadata": {},
     "output_type": "execute_result"
    },
    {
     "data": {
      "image/png": "[encoded data removed]",
      "text/plain": [
       "<Figure size 720x432 with 1 Axes>"
      ]
     },
     "metadata": {
      "needs_background": "light"
     },
     "output_type": "display_data"
    }
   ],
   "source": [
    "from plotly.offline import plot\n",
    "import cufflinks as cf\n",
    "df.plot(title=\"Main Meter 1 Readings\", figsize=(10,6))"
   ]
  },
  {
   "cell_type": "code",
   "execution_count": 86,
   "metadata": {},
   "outputs": [
    {
     "data": {
      "image/png": "[encoded data removed]",
      "text/plain": [
       "<Figure size 432x288 with 4 Axes>"
      ]
     },
     "metadata": {
      "needs_background": "light"
     },
     "output_type": "display_data"
    }
   ],
   "source": [
    "from chart_studio.plotly import plot_mpl\n",
    "from statsmodels.tsa.seasonal import seasonal_decompose\n",
    "result = seasonal_decompose(df, model='additive',period=168)\n",
    "fig=result.plot()"
   ]
  },
  {
   "cell_type": "code",
   "execution_count": 87,
   "metadata": {},
   "outputs": [
    {
     "name": "stdout",
     "output_type": "stream",
     "text": [
      "Fit ARIMA: order=(1, 0, 1); AIC=92113.917, BIC=92141.097, Fit time=1.046 seconds\n",
      "Fit ARIMA: order=(0, 0, 0); AIC=103463.285, BIC=103476.874, Fit time=0.003 seconds\n",
      "Fit ARIMA: order=(1, 0, 0); AIC=92135.163, BIC=92155.548, Fit time=0.094 seconds\n",
      "Fit ARIMA: order=(0, 0, 1); AIC=98499.685, BIC=98520.069, Fit time=0.088 seconds\n",
      "Fit ARIMA: order=(2, 0, 1); AIC=92072.579, BIC=92106.553, Fit time=1.128 seconds\n",
      "Fit ARIMA: order=(2, 0, 0); AIC=92123.124, BIC=92150.303, Fit time=0.576 seconds\n",
      "Fit ARIMA: order=(2, 0, 2); AIC=92014.390, BIC=92055.159, Fit time=1.165 seconds\n",
      "Fit ARIMA: order=(3, 0, 3); AIC=89037.060, BIC=89091.419, Fit time=8.035 seconds\n",
      "Fit ARIMA: order=(2, 0, 3); AIC=90399.525, BIC=90447.089, Fit time=2.199 seconds\n",
      "Fit ARIMA: order=(4, 0, 3); AIC=87339.237, BIC=87400.390, Fit time=12.106 seconds\n",
      "Fit ARIMA: order=(4, 0, 2); AIC=89422.698, BIC=89477.056, Fit time=1.692 seconds\n",
      "Fit ARIMA: order=(4, 0, 4); AIC=86969.044, BIC=87036.992, Fit time=16.182 seconds\n",
      "Fit ARIMA: order=(5, 0, 5); AIC=nan, BIC=nan, Fit time=nan seconds\n",
      "Fit ARIMA: order=(3, 0, 4); AIC=88381.813, BIC=88442.966, Fit time=10.425 seconds\n",
      "Fit ARIMA: order=(5, 0, 4); AIC=86849.273, BIC=86924.016, Fit time=11.713 seconds\n",
      "Fit ARIMA: order=(5, 0, 3); AIC=86886.286, BIC=86954.234, Fit time=9.868 seconds\n",
      "Total fit time: 92.073 seconds\n",
      "86849.27333086112\n"
     ]
    }
   ],
   "source": [
    "from pmdarima import auto_arima\n",
    "stepwise_model = auto_arima(df, start_p=1, start_q=1,\n",
    "                           max_p=5, max_q=5,\n",
    "                           start_P=0, seasonal=False,\n",
    "                           d=1, D=1, trace=True,\n",
    "                           error_action='ignore',  \n",
    "                           suppress_warnings=True, \n",
    "                           stepwise=True)\n",
    "print(stepwise_model.aic())"
   ]
  },
  {
   "cell_type": "code",
   "execution_count": 88,
   "metadata": {},
   "outputs": [
    {
     "data": {
      "text/plain": [
       "ARIMA(callback=None, disp=0, maxiter=None, method=None, order=(5, 0, 4),\n",
       "      out_of_sample_size=0, scoring='mse', scoring_args={}, seasonal_order=None,\n",
       "      solver='lbfgs', start_params=None, suppress_warnings=True,\n",
       "      transparams=True, trend=None, with_intercept=True)"
      ]
     },
     "execution_count": 88,
     "metadata": {},
     "output_type": "execute_result"
    }
   ],
   "source": [
    "train = df.loc['01-04-2017 00:00:00':'7-11-2017 00:00:00']\n",
    "test = df.loc['7-11-2017 00:00:00']\n",
    "stepwise_model.fit(train)"
   ]
  },
  {
   "cell_type": "code",
   "execution_count": 90,
   "metadata": {},
   "outputs": [
    {
     "data": {
      "text/plain": [
       "(array([ 881.2677107 ,  972.6056251 , 1190.37341432, ..., 1821.03687127,\n",
       "        1824.53996652, 1816.7679864 ]),)"
      ]
     },
     "execution_count": 90,
     "metadata": {},
     "output_type": "execute_result"
    }
   ],
   "source": [
    "future_forecast = stepwise_model.predict(n_periods=1320)\n",
    "future_forecast,"
   ]
  },
  {
   "cell_type": "code",
   "execution_count": 91,
   "metadata": {},
   "outputs": [],
   "source": [
    "a=pd.DataFrame(data=future_forecast)\n",
    "a.to_csv('updatedb1m1.csv')"
   ]
  },
  {
   "cell_type": "code",
   "execution_count": 98,
   "metadata": {},
   "outputs": [],
   "source": [
    "df7=pd.read_csv('C:/Users/Ankan/Downloads/updatedb1m2.csv')"
   ]
  },
  {
   "cell_type": "code",
   "execution_count": 99,
   "metadata": {},
   "outputs": [
    {
     "data": {
      "text/html": [
       "<div>\n",
       "<style scoped>\n",
       "    .dataframe tbody tr th:only-of-type {\n",
       "        vertical-align: middle;\n",
       "    }\n",
       "\n",
       "    .dataframe tbody tr th {\n",
       "        vertical-align: top;\n",
       "    }\n",
       "\n",
       "    .dataframe thead th {\n",
       "        text-align: right;\n",
       "    }\n",
       "</style>\n",
       "<table border=\"1\" class=\"dataframe\">\n",
       "  <thead>\n",
       "    <tr style=\"text-align: right;\">\n",
       "      <th></th>\n",
       "      <th>Unnamed: 0</th>\n",
       "      <th>0</th>\n",
       "    </tr>\n",
       "  </thead>\n",
       "  <tbody>\n",
       "    <tr>\n",
       "      <th>0</th>\n",
       "      <td>0</td>\n",
       "      <td>844.654823</td>\n",
       "    </tr>\n",
       "    <tr>\n",
       "      <th>1</th>\n",
       "      <td>1</td>\n",
       "      <td>874.764769</td>\n",
       "    </tr>\n",
       "    <tr>\n",
       "      <th>2</th>\n",
       "      <td>2</td>\n",
       "      <td>1026.271245</td>\n",
       "    </tr>\n",
       "    <tr>\n",
       "      <th>3</th>\n",
       "      <td>3</td>\n",
       "      <td>932.539370</td>\n",
       "    </tr>\n",
       "    <tr>\n",
       "      <th>4</th>\n",
       "      <td>4</td>\n",
       "      <td>847.415782</td>\n",
       "    </tr>\n",
       "  </tbody>\n",
       "</table>\n",
       "</div>"
      ],
      "text/plain": [
       "   Unnamed: 0            0\n",
       "0           0   844.654823\n",
       "1           1   874.764769\n",
       "2           2  1026.271245\n",
       "3           3   932.539370\n",
       "4           4   847.415782"
      ]
     },
     "execution_count": 99,
     "metadata": {},
     "output_type": "execute_result"
    }
   ],
   "source": [
    "df7.head()"
   ]
  },
  {
   "cell_type": "code",
   "execution_count": 100,
   "metadata": {},
   "outputs": [],
   "source": [
    "ne=np.repeat(df7['0'],4)\n",
    "ne.to_csv('latest_train_b1m1.csv')"
   ]
  },
  {
   "cell_type": "code",
   "execution_count": null,
   "metadata": {},
   "outputs": [],
   "source": []
  }
 ],
 "metadata": {
  "kernelspec": {
   "display_name": "Python 3",
   "language": "python",
   "name": "python3"
  },
  "language_info": {
   "codemirror_mode": {
    "name": "ipython",
    "version": 3
   },
   "file_extension": ".py",
   "mimetype": "text/x-python",
   "name": "python",
   "nbconvert_exporter": "python",
   "pygments_lexer": "ipython3",
   "version": "3.7.3"
  }
 },
 "nbformat": 4,
 "nbformat_minor": 4
}
