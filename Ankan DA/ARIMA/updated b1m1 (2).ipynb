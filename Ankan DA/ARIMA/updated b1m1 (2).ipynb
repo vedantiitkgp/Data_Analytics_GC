{
 "cells": [
  {
   "cell_type": "code",
   "execution_count": 4,
   "metadata": {},
   "outputs": [],
   "source": [
    "import pandas as pd\n",
    "import numpy as np\n",
    "import matplotlib.pyplot as plt\n",
    "import seaborn as sns\n",
    "import matplotlib\n",
    "df=pd.read_csv('C:/Users/Ankan/Downloads/final_gc_anolomy.csv')"
   ]
  },
  {
   "cell_type": "code",
   "execution_count": 5,
   "metadata": {},
   "outputs": [
    {
     "data": {
      "text/html": [
       "<div>\n",
       "<style scoped>\n",
       "    .dataframe tbody tr th:only-of-type {\n",
       "        vertical-align: middle;\n",
       "    }\n",
       "\n",
       "    .dataframe tbody tr th {\n",
       "        vertical-align: top;\n",
       "    }\n",
       "\n",
       "    .dataframe thead th {\n",
       "        text-align: right;\n",
       "    }\n",
       "</style>\n",
       "<table border=\"1\" class=\"dataframe\">\n",
       "  <thead>\n",
       "    <tr style=\"text-align: right;\">\n",
       "      <th></th>\n",
       "      <th>timestamp</th>\n",
       "      <th>main_meter</th>\n",
       "      <th>sub_meter_1</th>\n",
       "      <th>sub_meter_2</th>\n",
       "      <th>building_number</th>\n",
       "      <th>weekend</th>\n",
       "      <th>corporate</th>\n",
       "      <th>main_meter_4</th>\n",
       "      <th>main_meter_12</th>\n",
       "      <th>day of week_0</th>\n",
       "      <th>day of week_1</th>\n",
       "      <th>day of week_2</th>\n",
       "      <th>day of week_3</th>\n",
       "      <th>day of week_4</th>\n",
       "      <th>day of week_5</th>\n",
       "      <th>day of week_6</th>\n",
       "    </tr>\n",
       "  </thead>\n",
       "  <tbody>\n",
       "    <tr>\n",
       "      <th>0</th>\n",
       "      <td>2017-01-04 00:00:00</td>\n",
       "      <td>2452.453706</td>\n",
       "      <td>947.170207</td>\n",
       "      <td>0.450666</td>\n",
       "      <td>1</td>\n",
       "      <td>1</td>\n",
       "      <td>0</td>\n",
       "      <td>2713.659481</td>\n",
       "      <td>3778.895815</td>\n",
       "      <td>0</td>\n",
       "      <td>0</td>\n",
       "      <td>0</td>\n",
       "      <td>0</td>\n",
       "      <td>0</td>\n",
       "      <td>1</td>\n",
       "      <td>0</td>\n",
       "    </tr>\n",
       "    <tr>\n",
       "      <th>1</th>\n",
       "      <td>2017-01-04 01:00:00</td>\n",
       "      <td>2722.733293</td>\n",
       "      <td>1142.593908</td>\n",
       "      <td>1.377337</td>\n",
       "      <td>1</td>\n",
       "      <td>1</td>\n",
       "      <td>0</td>\n",
       "      <td>2713.659481</td>\n",
       "      <td>3778.895815</td>\n",
       "      <td>0</td>\n",
       "      <td>0</td>\n",
       "      <td>0</td>\n",
       "      <td>0</td>\n",
       "      <td>0</td>\n",
       "      <td>1</td>\n",
       "      <td>0</td>\n",
       "    </tr>\n",
       "    <tr>\n",
       "      <th>2</th>\n",
       "      <td>2017-01-04 02:00:00</td>\n",
       "      <td>2875.868294</td>\n",
       "      <td>1325.265793</td>\n",
       "      <td>3.915958</td>\n",
       "      <td>1</td>\n",
       "      <td>1</td>\n",
       "      <td>0</td>\n",
       "      <td>2713.659481</td>\n",
       "      <td>3778.895815</td>\n",
       "      <td>0</td>\n",
       "      <td>0</td>\n",
       "      <td>0</td>\n",
       "      <td>0</td>\n",
       "      <td>0</td>\n",
       "      <td>1</td>\n",
       "      <td>0</td>\n",
       "    </tr>\n",
       "    <tr>\n",
       "      <th>3</th>\n",
       "      <td>2017-01-04 03:00:00</td>\n",
       "      <td>2803.582630</td>\n",
       "      <td>1279.729428</td>\n",
       "      <td>0.084493</td>\n",
       "      <td>1</td>\n",
       "      <td>1</td>\n",
       "      <td>0</td>\n",
       "      <td>2713.659481</td>\n",
       "      <td>3778.895815</td>\n",
       "      <td>0</td>\n",
       "      <td>0</td>\n",
       "      <td>0</td>\n",
       "      <td>0</td>\n",
       "      <td>0</td>\n",
       "      <td>1</td>\n",
       "      <td>0</td>\n",
       "    </tr>\n",
       "    <tr>\n",
       "      <th>4</th>\n",
       "      <td>2017-01-04 04:00:00</td>\n",
       "      <td>2465.531768</td>\n",
       "      <td>922.310425</td>\n",
       "      <td>0.155445</td>\n",
       "      <td>1</td>\n",
       "      <td>1</td>\n",
       "      <td>0</td>\n",
       "      <td>3931.024433</td>\n",
       "      <td>3778.895815</td>\n",
       "      <td>0</td>\n",
       "      <td>0</td>\n",
       "      <td>0</td>\n",
       "      <td>0</td>\n",
       "      <td>0</td>\n",
       "      <td>1</td>\n",
       "      <td>0</td>\n",
       "    </tr>\n",
       "  </tbody>\n",
       "</table>\n",
       "</div>"
      ],
      "text/plain": [
       "            timestamp   main_meter  sub_meter_1  sub_meter_2  building_number  \\\n",
       "0 2017-01-04 00:00:00  2452.453706   947.170207     0.450666                1   \n",
       "1 2017-01-04 01:00:00  2722.733293  1142.593908     1.377337                1   \n",
       "2 2017-01-04 02:00:00  2875.868294  1325.265793     3.915958                1   \n",
       "3 2017-01-04 03:00:00  2803.582630  1279.729428     0.084493                1   \n",
       "4 2017-01-04 04:00:00  2465.531768   922.310425     0.155445                1   \n",
       "\n",
       "   weekend  corporate  main_meter_4  main_meter_12  day of week_0  \\\n",
       "0        1          0   2713.659481    3778.895815              0   \n",
       "1        1          0   2713.659481    3778.895815              0   \n",
       "2        1          0   2713.659481    3778.895815              0   \n",
       "3        1          0   2713.659481    3778.895815              0   \n",
       "4        1          0   3931.024433    3778.895815              0   \n",
       "\n",
       "   day of week_1  day of week_2  day of week_3  day of week_4  day of week_5  \\\n",
       "0              0              0              0              0              1   \n",
       "1              0              0              0              0              1   \n",
       "2              0              0              0              0              1   \n",
       "3              0              0              0              0              1   \n",
       "4              0              0              0              0              1   \n",
       "\n",
       "   day of week_6  \n",
       "0              0  \n",
       "1              0  \n",
       "2              0  \n",
       "3              0  \n",
       "4              0  "
      ]
     },
     "execution_count": 5,
     "metadata": {},
     "output_type": "execute_result"
    }
   ],
   "source": [
    "df['timestamp'] = pd.to_datetime(df['timestamp'], infer_datetime_format=True)\n",
    "df  = df[df['building_number']==1]\n",
    "df.head()"
   ]
  },
  {
   "cell_type": "code",
   "execution_count": 6,
   "metadata": {},
   "outputs": [
    {
     "data": {
      "text/html": [
       "<div>\n",
       "<style scoped>\n",
       "    .dataframe tbody tr th:only-of-type {\n",
       "        vertical-align: middle;\n",
       "    }\n",
       "\n",
       "    .dataframe tbody tr th {\n",
       "        vertical-align: top;\n",
       "    }\n",
       "\n",
       "    .dataframe thead th {\n",
       "        text-align: right;\n",
       "    }\n",
       "</style>\n",
       "<table border=\"1\" class=\"dataframe\">\n",
       "  <thead>\n",
       "    <tr style=\"text-align: right;\">\n",
       "      <th></th>\n",
       "      <th>main_meter</th>\n",
       "    </tr>\n",
       "    <tr>\n",
       "      <th>timestamp</th>\n",
       "      <th></th>\n",
       "    </tr>\n",
       "  </thead>\n",
       "  <tbody>\n",
       "    <tr>\n",
       "      <th>2017-01-04 00:00:00</th>\n",
       "      <td>2452.453706</td>\n",
       "    </tr>\n",
       "    <tr>\n",
       "      <th>2017-01-04 01:00:00</th>\n",
       "      <td>2722.733293</td>\n",
       "    </tr>\n",
       "    <tr>\n",
       "      <th>2017-01-04 02:00:00</th>\n",
       "      <td>2875.868294</td>\n",
       "    </tr>\n",
       "    <tr>\n",
       "      <th>2017-01-04 03:00:00</th>\n",
       "      <td>2803.582630</td>\n",
       "    </tr>\n",
       "    <tr>\n",
       "      <th>2017-01-04 04:00:00</th>\n",
       "      <td>2465.531768</td>\n",
       "    </tr>\n",
       "  </tbody>\n",
       "</table>\n",
       "</div>"
      ],
      "text/plain": [
       "                      main_meter\n",
       "timestamp                       \n",
       "2017-01-04 00:00:00  2452.453706\n",
       "2017-01-04 01:00:00  2722.733293\n",
       "2017-01-04 02:00:00  2875.868294\n",
       "2017-01-04 03:00:00  2803.582630\n",
       "2017-01-04 04:00:00  2465.531768"
      ]
     },
     "execution_count": 6,
     "metadata": {},
     "output_type": "execute_result"
    }
   ],
   "source": [
    "df=df.drop(columns=['sub_meter_1','sub_meter_2','building_number','weekend','corporate','main_meter_4','main_meter_12','day of week_0','day of week_1','day of week_2','day of week_3','day of week_4','day of week_5','day of week_6'])\n",
    "df=df.set_index('timestamp')\n",
    "df.head()"
   ]
  },
  {
   "cell_type": "code",
   "execution_count": 7,
   "metadata": {},
   "outputs": [
    {
     "data": {
      "text/plain": [
       "<matplotlib.axes._subplots.AxesSubplot at 0x151279c4cc0>"
      ]
     },
     "execution_count": 7,
     "metadata": {},
     "output_type": "execute_result"
    },
    {
     "data": {
      "image/png": "[encoded data removed]",
      "text/plain": [
       "<Figure size 720x432 with 1 Axes>"
      ]
     },
     "metadata": {
      "needs_background": "light"
     },
     "output_type": "display_data"
    }
   ],
   "source": [
    "from plotly.offline import plot\n",
    "import cufflinks as cf\n",
    "df.plot(title=\"Main Meter 1 Readings\", figsize=(10,6))"
   ]
  },
  {
   "cell_type": "code",
   "execution_count": 8,
   "metadata": {},
   "outputs": [
    {
     "data": {
      "image/png": "[encoded data removed]",
      "text/plain": [
       "<Figure size 432x288 with 4 Axes>"
      ]
     },
     "metadata": {
      "needs_background": "light"
     },
     "output_type": "display_data"
    }
   ],
   "source": [
    "from chart_studio.plotly import plot_mpl\n",
    "from statsmodels.tsa.seasonal import seasonal_decompose\n",
    "result = seasonal_decompose(df, model='additive',period=168)\n",
    "fig=result.plot()"
   ]
  },
  {
   "cell_type": "code",
   "execution_count": 9,
   "metadata": {},
   "outputs": [
    {
     "name": "stderr",
     "output_type": "stream",
     "text": [
      "C:\\Users\\Ankan\\AppData\\Local\\Continuum\\anaconda3\\lib\\site-packages\\sklearn\\externals\\six.py:31: FutureWarning:\n",
      "\n",
      "The module is deprecated in version 0.21 and will be removed in version 0.23 since we've dropped support for Python 2.7. Please rely on the official version of six (https://pypi.org/project/six/).\n",
      "\n",
      "C:\\Users\\Ankan\\AppData\\Local\\Continuum\\anaconda3\\lib\\site-packages\\sklearn\\externals\\joblib\\__init__.py:15: FutureWarning:\n",
      "\n",
      "sklearn.externals.joblib is deprecated in 0.21 and will be removed in 0.23. Please import this functionality directly from joblib, which can be installed with: pip install joblib. If this warning is raised when loading pickled models, you may need to re-serialize those models with scikit-learn 0.21+.\n",
      "\n"
     ]
    },
    {
     "name": "stdout",
     "output_type": "stream",
     "text": [
      "Fit ARIMA: order=(1, 1, 1); AIC=107002.997, BIC=107030.175, Fit time=0.843 seconds\n",
      "Fit ARIMA: order=(0, 1, 0); AIC=107199.624, BIC=107213.214, Fit time=0.003 seconds\n",
      "Fit ARIMA: order=(1, 1, 0); AIC=107001.769, BIC=107022.153, Fit time=0.025 seconds\n",
      "Fit ARIMA: order=(0, 1, 1); AIC=107005.632, BIC=107026.016, Fit time=0.024 seconds\n",
      "Fit ARIMA: order=(2, 1, 0); AIC=107002.565, BIC=107029.743, Fit time=0.046 seconds\n",
      "Fit ARIMA: order=(2, 1, 1); AIC=106420.839, BIC=106454.813, Fit time=1.903 seconds\n",
      "Fit ARIMA: order=(3, 1, 1); AIC=106376.814, BIC=106417.583, Fit time=2.947 seconds\n",
      "Fit ARIMA: order=(3, 1, 0); AIC=106989.368, BIC=107023.341, Fit time=0.064 seconds\n",
      "Fit ARIMA: order=(3, 1, 2); AIC=106062.024, BIC=106109.587, Fit time=3.916 seconds\n",
      "Fit ARIMA: order=(4, 1, 3); AIC=105769.919, BIC=105831.071, Fit time=4.637 seconds\n",
      "Fit ARIMA: order=(3, 1, 3); AIC=105825.732, BIC=105880.089, Fit time=6.780 seconds\n",
      "Fit ARIMA: order=(5, 1, 3); AIC=105556.405, BIC=105624.352, Fit time=7.152 seconds\n",
      "Fit ARIMA: order=(5, 1, 2); AIC=105967.705, BIC=106028.857, Fit time=8.854 seconds\n",
      "Fit ARIMA: order=(5, 1, 4); AIC=105680.169, BIC=105754.911, Fit time=24.836 seconds\n",
      "Fit ARIMA: order=(4, 1, 2); AIC=106061.152, BIC=106115.509, Fit time=6.630 seconds\n",
      "Total fit time: 68.663 seconds\n",
      "105556.40520112647\n"
     ]
    }
   ],
   "source": [
    "from pmdarima import auto_arima\n",
    "stepwise_model = auto_arima(df, start_p=1, start_q=1,\n",
    "                           max_p=5, max_q=5,\n",
    "                           start_P=0, seasonal=False,\n",
    "                           d=1, D=1, trace=True,\n",
    "                           error_action='ignore',  \n",
    "                           suppress_warnings=True, \n",
    "                           stepwise=True)\n",
    "print(stepwise_model.aic())"
   ]
  },
  {
   "cell_type": "code",
   "execution_count": 10,
   "metadata": {},
   "outputs": [
    {
     "data": {
      "text/plain": [
       "ARIMA(callback=None, disp=0, maxiter=None, method=None, order=(5, 1, 3),\n",
       "      out_of_sample_size=0, scoring='mse', scoring_args={}, seasonal_order=None,\n",
       "      solver='lbfgs', start_params=None, suppress_warnings=True,\n",
       "      transparams=True, trend=None, with_intercept=True)"
      ]
     },
     "execution_count": 10,
     "metadata": {},
     "output_type": "execute_result"
    }
   ],
   "source": [
    "train = df.loc['01-04-2017 00:00:00':'7-11-2017 00:00:00']\n",
    "test = df.loc['7-11-2017 00:00:00']\n",
    "stepwise_model.fit(train)"
   ]
  },
  {
   "cell_type": "code",
   "execution_count": 11,
   "metadata": {},
   "outputs": [
    {
     "data": {
      "text/plain": [
       "(array([2299.69747708, 2286.88031158, 2852.91905929, ..., 4145.97008498,\n",
       "        3761.35129764, 3371.71265681]),)"
      ]
     },
     "execution_count": 11,
     "metadata": {},
     "output_type": "execute_result"
    }
   ],
   "source": [
    "future_forecast = stepwise_model.predict(n_periods=1320)\n",
    "future_forecast,"
   ]
  },
  {
   "cell_type": "code",
   "execution_count": 12,
   "metadata": {},
   "outputs": [],
   "source": [
    "a=pd.DataFrame(data=future_forecast)\n",
    "a.to_csv('updatedb1m1.csv')"
   ]
  },
  {
   "cell_type": "code",
   "execution_count": 13,
   "metadata": {},
   "outputs": [],
   "source": [
    "df7=pd.read_csv('C:/Users/Ankan/Downloads/updatedb1m1.csv')"
   ]
  },
  {
   "cell_type": "code",
   "execution_count": 14,
   "metadata": {},
   "outputs": [
    {
     "data": {
      "text/html": [
       "<div>\n",
       "<style scoped>\n",
       "    .dataframe tbody tr th:only-of-type {\n",
       "        vertical-align: middle;\n",
       "    }\n",
       "\n",
       "    .dataframe tbody tr th {\n",
       "        vertical-align: top;\n",
       "    }\n",
       "\n",
       "    .dataframe thead th {\n",
       "        text-align: right;\n",
       "    }\n",
       "</style>\n",
       "<table border=\"1\" class=\"dataframe\">\n",
       "  <thead>\n",
       "    <tr style=\"text-align: right;\">\n",
       "      <th></th>\n",
       "      <th>Unnamed: 0</th>\n",
       "      <th>0</th>\n",
       "    </tr>\n",
       "  </thead>\n",
       "  <tbody>\n",
       "    <tr>\n",
       "      <th>0</th>\n",
       "      <td>0</td>\n",
       "      <td>2299.697477</td>\n",
       "    </tr>\n",
       "    <tr>\n",
       "      <th>1</th>\n",
       "      <td>1</td>\n",
       "      <td>2286.880312</td>\n",
       "    </tr>\n",
       "    <tr>\n",
       "      <th>2</th>\n",
       "      <td>2</td>\n",
       "      <td>2852.919059</td>\n",
       "    </tr>\n",
       "    <tr>\n",
       "      <th>3</th>\n",
       "      <td>3</td>\n",
       "      <td>3335.460553</td>\n",
       "    </tr>\n",
       "    <tr>\n",
       "      <th>4</th>\n",
       "      <td>4</td>\n",
       "      <td>4241.350822</td>\n",
       "    </tr>\n",
       "  </tbody>\n",
       "</table>\n",
       "</div>"
      ],
      "text/plain": [
       "   Unnamed: 0            0\n",
       "0           0  2299.697477\n",
       "1           1  2286.880312\n",
       "2           2  2852.919059\n",
       "3           3  3335.460553\n",
       "4           4  4241.350822"
      ]
     },
     "execution_count": 14,
     "metadata": {},
     "output_type": "execute_result"
    }
   ],
   "source": [
    "df7.head()"
   ]
  },
  {
   "cell_type": "code",
   "execution_count": 15,
   "metadata": {},
   "outputs": [],
   "source": [
    "ne=np.repeat(df7['0'],4)\n",
    "ne.to_csv('latest_train_b1m1.csv')"
   ]
  },
  {
   "cell_type": "code",
   "execution_count": null,
   "metadata": {},
   "outputs": [],
   "source": []
  }
 ],
 "metadata": {
  "kernelspec": {
   "display_name": "Python 3",
   "language": "python",
   "name": "python3"
  },
  "language_info": {
   "codemirror_mode": {
    "name": "ipython",
    "version": 3
   },
   "file_extension": ".py",
   "mimetype": "text/x-python",
   "name": "python",
   "nbconvert_exporter": "python",
   "pygments_lexer": "ipython3",
   "version": "3.7.3"
  }
 },
 "nbformat": 4,
 "nbformat_minor": 4
}
