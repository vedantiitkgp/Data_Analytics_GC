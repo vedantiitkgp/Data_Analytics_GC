{
 "cells": [
  {
   "cell_type": "code",
   "execution_count": 1,
   "metadata": {},
   "outputs": [],
   "source": [
    "import pandas as pd\n",
    "import numpy as np\n",
    "import matplotlib.pyplot as plt\n",
    "import seaborn as sns\n",
    "import matplotlib\n",
    "df=pd.read_csv('C:/Users/Ankan/Downloads/final_gc_anolomy.csv')"
   ]
  },
  {
   "cell_type": "code",
   "execution_count": 2,
   "metadata": {},
   "outputs": [
    {
     "data": {
      "text/html": [
       "<div>\n",
       "<style scoped>\n",
       "    .dataframe tbody tr th:only-of-type {\n",
       "        vertical-align: middle;\n",
       "    }\n",
       "\n",
       "    .dataframe tbody tr th {\n",
       "        vertical-align: top;\n",
       "    }\n",
       "\n",
       "    .dataframe thead th {\n",
       "        text-align: right;\n",
       "    }\n",
       "</style>\n",
       "<table border=\"1\" class=\"dataframe\">\n",
       "  <thead>\n",
       "    <tr style=\"text-align: right;\">\n",
       "      <th></th>\n",
       "      <th>timestamp</th>\n",
       "      <th>main_meter</th>\n",
       "      <th>sub_meter_1</th>\n",
       "      <th>sub_meter_2</th>\n",
       "      <th>building_number</th>\n",
       "      <th>weekend</th>\n",
       "      <th>corporate</th>\n",
       "      <th>main_meter_4</th>\n",
       "      <th>main_meter_12</th>\n",
       "      <th>day of week_0</th>\n",
       "      <th>day of week_1</th>\n",
       "      <th>day of week_2</th>\n",
       "      <th>day of week_3</th>\n",
       "      <th>day of week_4</th>\n",
       "      <th>day of week_5</th>\n",
       "      <th>day of week_6</th>\n",
       "    </tr>\n",
       "  </thead>\n",
       "  <tbody>\n",
       "    <tr>\n",
       "      <th>32995</th>\n",
       "      <td>2017-12-31 19:00:00</td>\n",
       "      <td>2563.415615</td>\n",
       "      <td>1249.272994</td>\n",
       "      <td>0.000000</td>\n",
       "      <td>5</td>\n",
       "      <td>1</td>\n",
       "      <td>1</td>\n",
       "      <td>9032.988324</td>\n",
       "      <td>7444.083761</td>\n",
       "      <td>0</td>\n",
       "      <td>0</td>\n",
       "      <td>0</td>\n",
       "      <td>0</td>\n",
       "      <td>0</td>\n",
       "      <td>0</td>\n",
       "      <td>1</td>\n",
       "    </tr>\n",
       "    <tr>\n",
       "      <th>32996</th>\n",
       "      <td>2017-12-31 20:00:00</td>\n",
       "      <td>2446.584835</td>\n",
       "      <td>1204.131748</td>\n",
       "      <td>1.975446</td>\n",
       "      <td>5</td>\n",
       "      <td>1</td>\n",
       "      <td>0</td>\n",
       "      <td>2328.723484</td>\n",
       "      <td>7444.083761</td>\n",
       "      <td>0</td>\n",
       "      <td>0</td>\n",
       "      <td>0</td>\n",
       "      <td>0</td>\n",
       "      <td>0</td>\n",
       "      <td>0</td>\n",
       "      <td>1</td>\n",
       "    </tr>\n",
       "    <tr>\n",
       "      <th>32997</th>\n",
       "      <td>2017-12-31 21:00:00</td>\n",
       "      <td>2214.268005</td>\n",
       "      <td>1082.285606</td>\n",
       "      <td>1.148236</td>\n",
       "      <td>5</td>\n",
       "      <td>1</td>\n",
       "      <td>0</td>\n",
       "      <td>2328.723484</td>\n",
       "      <td>7444.083761</td>\n",
       "      <td>0</td>\n",
       "      <td>0</td>\n",
       "      <td>0</td>\n",
       "      <td>0</td>\n",
       "      <td>0</td>\n",
       "      <td>0</td>\n",
       "      <td>1</td>\n",
       "    </tr>\n",
       "    <tr>\n",
       "      <th>32998</th>\n",
       "      <td>2017-12-31 22:00:00</td>\n",
       "      <td>2318.596948</td>\n",
       "      <td>1175.095957</td>\n",
       "      <td>2.231142</td>\n",
       "      <td>5</td>\n",
       "      <td>1</td>\n",
       "      <td>0</td>\n",
       "      <td>2328.723484</td>\n",
       "      <td>7444.083761</td>\n",
       "      <td>0</td>\n",
       "      <td>0</td>\n",
       "      <td>0</td>\n",
       "      <td>0</td>\n",
       "      <td>0</td>\n",
       "      <td>0</td>\n",
       "      <td>1</td>\n",
       "    </tr>\n",
       "    <tr>\n",
       "      <th>32999</th>\n",
       "      <td>2017-12-31 23:00:00</td>\n",
       "      <td>2335.444149</td>\n",
       "      <td>1189.486625</td>\n",
       "      <td>2.356003</td>\n",
       "      <td>5</td>\n",
       "      <td>1</td>\n",
       "      <td>0</td>\n",
       "      <td>2328.723484</td>\n",
       "      <td>7444.083761</td>\n",
       "      <td>0</td>\n",
       "      <td>0</td>\n",
       "      <td>0</td>\n",
       "      <td>0</td>\n",
       "      <td>0</td>\n",
       "      <td>0</td>\n",
       "      <td>1</td>\n",
       "    </tr>\n",
       "  </tbody>\n",
       "</table>\n",
       "</div>"
      ],
      "text/plain": [
       "                timestamp   main_meter  sub_meter_1  sub_meter_2  \\\n",
       "32995 2017-12-31 19:00:00  2563.415615  1249.272994     0.000000   \n",
       "32996 2017-12-31 20:00:00  2446.584835  1204.131748     1.975446   \n",
       "32997 2017-12-31 21:00:00  2214.268005  1082.285606     1.148236   \n",
       "32998 2017-12-31 22:00:00  2318.596948  1175.095957     2.231142   \n",
       "32999 2017-12-31 23:00:00  2335.444149  1189.486625     2.356003   \n",
       "\n",
       "       building_number  weekend  corporate  main_meter_4  main_meter_12  \\\n",
       "32995                5        1          1   9032.988324    7444.083761   \n",
       "32996                5        1          0   2328.723484    7444.083761   \n",
       "32997                5        1          0   2328.723484    7444.083761   \n",
       "32998                5        1          0   2328.723484    7444.083761   \n",
       "32999                5        1          0   2328.723484    7444.083761   \n",
       "\n",
       "       day of week_0  day of week_1  day of week_2  day of week_3  \\\n",
       "32995              0              0              0              0   \n",
       "32996              0              0              0              0   \n",
       "32997              0              0              0              0   \n",
       "32998              0              0              0              0   \n",
       "32999              0              0              0              0   \n",
       "\n",
       "       day of week_4  day of week_5  day of week_6  \n",
       "32995              0              0              1  \n",
       "32996              0              0              1  \n",
       "32997              0              0              1  \n",
       "32998              0              0              1  \n",
       "32999              0              0              1  "
      ]
     },
     "execution_count": 2,
     "metadata": {},
     "output_type": "execute_result"
    }
   ],
   "source": [
    "df['timestamp'] = pd.to_datetime(df['timestamp'], infer_datetime_format=True)\n",
    "df  = df[df['building_number']==5]\n",
    "df.tail()"
   ]
  },
  {
   "cell_type": "code",
   "execution_count": 3,
   "metadata": {},
   "outputs": [
    {
     "data": {
      "text/html": [
       "<div>\n",
       "<style scoped>\n",
       "    .dataframe tbody tr th:only-of-type {\n",
       "        vertical-align: middle;\n",
       "    }\n",
       "\n",
       "    .dataframe tbody tr th {\n",
       "        vertical-align: top;\n",
       "    }\n",
       "\n",
       "    .dataframe thead th {\n",
       "        text-align: right;\n",
       "    }\n",
       "</style>\n",
       "<table border=\"1\" class=\"dataframe\">\n",
       "  <thead>\n",
       "    <tr style=\"text-align: right;\">\n",
       "      <th></th>\n",
       "      <th>sub_meter_2</th>\n",
       "    </tr>\n",
       "    <tr>\n",
       "      <th>timestamp</th>\n",
       "      <th></th>\n",
       "    </tr>\n",
       "  </thead>\n",
       "  <tbody>\n",
       "    <tr>\n",
       "      <th>2017-01-04 00:00:00</th>\n",
       "      <td>1.923196</td>\n",
       "    </tr>\n",
       "    <tr>\n",
       "      <th>2017-01-04 01:00:00</th>\n",
       "      <td>1.203170</td>\n",
       "    </tr>\n",
       "    <tr>\n",
       "      <th>2017-01-04 02:00:00</th>\n",
       "      <td>0.233014</td>\n",
       "    </tr>\n",
       "    <tr>\n",
       "      <th>2017-01-04 03:00:00</th>\n",
       "      <td>2.471783</td>\n",
       "    </tr>\n",
       "    <tr>\n",
       "      <th>2017-01-04 04:00:00</th>\n",
       "      <td>208.231865</td>\n",
       "    </tr>\n",
       "  </tbody>\n",
       "</table>\n",
       "</div>"
      ],
      "text/plain": [
       "                     sub_meter_2\n",
       "timestamp                       \n",
       "2017-01-04 00:00:00     1.923196\n",
       "2017-01-04 01:00:00     1.203170\n",
       "2017-01-04 02:00:00     0.233014\n",
       "2017-01-04 03:00:00     2.471783\n",
       "2017-01-04 04:00:00   208.231865"
      ]
     },
     "execution_count": 3,
     "metadata": {},
     "output_type": "execute_result"
    }
   ],
   "source": [
    "df=df.drop(columns=['sub_meter_1','main_meter','building_number','weekend','corporate','main_meter_4','main_meter_12','day of week_0','day of week_1','day of week_2','day of week_3','day of week_4','day of week_5','day of week_6'])\n",
    "df=df.set_index('timestamp')\n",
    "df.head()"
   ]
  },
  {
   "cell_type": "code",
   "execution_count": 4,
   "metadata": {},
   "outputs": [
    {
     "data": {
      "text/plain": [
       "<matplotlib.axes._subplots.AxesSubplot at 0x1bdb19d19e8>"
      ]
     },
     "execution_count": 4,
     "metadata": {},
     "output_type": "execute_result"
    },
    {
     "data": {
      "image/png": "[encoded data removed]",
      "text/plain": [
       "<Figure size 720x432 with 1 Axes>"
      ]
     },
     "metadata": {
      "needs_background": "light"
     },
     "output_type": "display_data"
    }
   ],
   "source": [
    "from plotly.offline import plot\n",
    "import cufflinks as cf\n",
    "df.plot(title=\"Main Meter 1 Readings\", figsize=(10,6))"
   ]
  },
  {
   "cell_type": "code",
   "execution_count": 5,
   "metadata": {},
   "outputs": [
    {
     "data": {
      "image/png": "[encoded data removed]",
      "text/plain": [
       "<Figure size 432x288 with 4 Axes>"
      ]
     },
     "metadata": {
      "needs_background": "light"
     },
     "output_type": "display_data"
    }
   ],
   "source": [
    "from chart_studio.plotly import plot_mpl\n",
    "from statsmodels.tsa.seasonal import seasonal_decompose\n",
    "result = seasonal_decompose(df, model='additive',period=168)\n",
    "fig=result.plot()"
   ]
  },
  {
   "cell_type": "code",
   "execution_count": 6,
   "metadata": {},
   "outputs": [
    {
     "name": "stderr",
     "output_type": "stream",
     "text": [
      "C:\\Users\\Ankan\\AppData\\Local\\Continuum\\anaconda3\\lib\\site-packages\\sklearn\\externals\\six.py:31: FutureWarning:\n",
      "\n",
      "The module is deprecated in version 0.21 and will be removed in version 0.23 since we've dropped support for Python 2.7. Please rely on the official version of six (https://pypi.org/project/six/).\n",
      "\n",
      "C:\\Users\\Ankan\\AppData\\Local\\Continuum\\anaconda3\\lib\\site-packages\\sklearn\\externals\\joblib\\__init__.py:15: FutureWarning:\n",
      "\n",
      "sklearn.externals.joblib is deprecated in 0.21 and will be removed in 0.23. Please import this functionality directly from joblib, which can be installed with: pip install joblib. If this warning is raised when loading pickled models, you may need to re-serialize those models with scikit-learn 0.21+.\n",
      "\n"
     ]
    },
    {
     "name": "stdout",
     "output_type": "stream",
     "text": [
      "Fit ARIMA: order=(1, 0, 1); AIC=92716.784, BIC=92743.963, Fit time=1.867 seconds\n",
      "Fit ARIMA: order=(0, 0, 0); AIC=103906.219, BIC=103919.809, Fit time=0.005 seconds\n",
      "Fit ARIMA: order=(1, 0, 0); AIC=93610.955, BIC=93631.340, Fit time=0.165 seconds\n",
      "Fit ARIMA: order=(0, 0, 1); AIC=97599.131, BIC=97619.515, Fit time=1.612 seconds\n",
      "Fit ARIMA: order=(2, 0, 1); AIC=92337.135, BIC=92371.109, Fit time=3.622 seconds\n",
      "Fit ARIMA: order=(2, 0, 0); AIC=92620.437, BIC=92647.617, Fit time=1.100 seconds\n",
      "Fit ARIMA: order=(2, 0, 2); AIC=92114.754, BIC=92155.523, Fit time=6.935 seconds\n",
      "Fit ARIMA: order=(3, 0, 3); AIC=91066.173, BIC=91120.532, Fit time=65.767 seconds\n",
      "Fit ARIMA: order=(2, 0, 3); AIC=92033.424, BIC=92080.988, Fit time=2.510 seconds\n",
      "Fit ARIMA: order=(4, 0, 3); AIC=91057.713, BIC=91118.866, Fit time=16.562 seconds\n",
      "Fit ARIMA: order=(4, 0, 2); AIC=91075.173, BIC=91129.532, Fit time=12.801 seconds\n",
      "Fit ARIMA: order=(4, 0, 4); AIC=91540.446, BIC=91608.394, Fit time=28.018 seconds\n",
      "Fit ARIMA: order=(3, 0, 2); AIC=92079.296, BIC=92126.860, Fit time=1.926 seconds\n",
      "Fit ARIMA: order=(5, 0, 4); AIC=91537.563, BIC=91612.306, Fit time=18.956 seconds\n",
      "Fit ARIMA: order=(5, 0, 3); AIC=91027.611, BIC=91095.560, Fit time=59.885 seconds\n",
      "Fit ARIMA: order=(5, 0, 2); AIC=91076.548, BIC=91137.702, Fit time=10.769 seconds\n",
      "Total fit time: 232.509 seconds\n",
      "91027.6114922227\n"
     ]
    }
   ],
   "source": [
    "from pmdarima import auto_arima\n",
    "stepwise_model = auto_arima(df, start_p=1, start_q=1,\n",
    "                           max_p=5, max_q=5,\n",
    "                           start_P=0, seasonal=False,\n",
    "                           d=0, D=1, trace=True,\n",
    "                           error_action='ignore',  \n",
    "                           suppress_warnings=True, \n",
    "                           stepwise=True)\n",
    "print(stepwise_model.aic())"
   ]
  },
  {
   "cell_type": "code",
   "execution_count": 7,
   "metadata": {},
   "outputs": [
    {
     "data": {
      "text/plain": [
       "ARIMA(callback=None, disp=0, maxiter=None, method=None, order=(5, 0, 3),\n",
       "      out_of_sample_size=0, scoring='mse', scoring_args={}, seasonal_order=None,\n",
       "      solver='lbfgs', start_params=None, suppress_warnings=True,\n",
       "      transparams=True, trend=None, with_intercept=True)"
      ]
     },
     "execution_count": 7,
     "metadata": {},
     "output_type": "execute_result"
    }
   ],
   "source": [
    "train = df.loc['01-04-2017 00:00:00':'07-11-2017 00:00:00']\n",
    "test = df.loc['07-11-2017 00:00:00':]\n",
    "stepwise_model.fit(train)"
   ]
  },
  {
   "cell_type": "code",
   "execution_count": 8,
   "metadata": {},
   "outputs": [
    {
     "data": {
      "text/plain": [
       "array([ 97.47004884, 169.86955589, 281.8063782 , ..., 402.15619285,\n",
       "       335.53205727, 294.81094346])"
      ]
     },
     "execution_count": 8,
     "metadata": {},
     "output_type": "execute_result"
    }
   ],
   "source": [
    "future_forecast = stepwise_model.predict(n_periods=1320)\n",
    "future_forecast"
   ]
  },
  {
   "cell_type": "code",
   "execution_count": 9,
   "metadata": {},
   "outputs": [],
   "source": [
    "a=pd.DataFrame(data=future_forecast)\n",
    "a.to_csv('updatedb5m3.csv')"
   ]
  },
  {
   "cell_type": "markdown",
   "metadata": {},
   "source": [
    "# add the code to show actual vs predicted\n"
   ]
  },
  {
   "cell_type": "code",
   "execution_count": null,
   "metadata": {},
   "outputs": [],
   "source": []
  }
 ],
 "metadata": {
  "kernelspec": {
   "display_name": "Python 3",
   "language": "python",
   "name": "python3"
  },
  "language_info": {
   "codemirror_mode": {
    "name": "ipython",
    "version": 3
   },
   "file_extension": ".py",
   "mimetype": "text/x-python",
   "name": "python",
   "nbconvert_exporter": "python",
   "pygments_lexer": "ipython3",
   "version": "3.7.3"
  }
 },
 "nbformat": 4,
 "nbformat_minor": 2
}
