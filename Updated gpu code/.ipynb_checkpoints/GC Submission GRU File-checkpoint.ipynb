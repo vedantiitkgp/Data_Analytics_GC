{
 "cells": [
  {
   "cell_type": "code",
   "execution_count": 123,
   "metadata": {},
   "outputs": [],
   "source": [
    "##Importing Libraries\n",
    "import numpy as np\n",
    "import pandas as pd\n",
    "import warnings\n",
    "import matplotlib.pyplot as plt\n",
    "warnings.filterwarnings('ignore')\n",
    "plt.style.use('fivethirtyeight')\n",
    "from pylab import rcParams\n",
    "from plotly import tools\n",
    "import chart_studio.plotly as py\n",
    "from plotly.offline import init_notebook_mode, iplot\n",
    "import plotly.graph_objs as go\n",
    "import plotly.figure_factory as ff\n",
    "from sklearn.metrics import mean_squared_error\n",
    "from numpy import newaxis\n",
    "from keras.layers.core import Dense ,Activation,Dropout\n",
    "from keras.layers.recurrent import LSTM,GRU\n",
    "from keras.models import Sequential\n",
    "from keras import optimizers\n",
    "from sklearn.preprocessing import MinMaxScaler\n",
    "from tensorflow.keras.models import Sequential\n",
    "from tensorflow.keras.layers import LSTM, GRU\n",
    "from tensorflow.keras.layers import Dense\n",
    "from tensorflow.keras import losses\n",
    "from tensorflow.keras.models import model_from_json\n",
    "from tensorflow.keras.optimizers import SGD"
   ]
  },
  {
   "cell_type": "code",
   "execution_count": 124,
   "metadata": {},
   "outputs": [],
   "source": [
    "#User Input Variables\n",
    "index_reader = 5 \n",
    "no_of_epochs = 35"
   ]
  },
  {
   "cell_type": "code",
   "execution_count": 125,
   "metadata": {},
   "outputs": [],
   "source": [
    "#Reading Files\n",
    "dataframe = pd.read_csv('./building_'+str(index_reader)+'_anomaly.csv')\n",
    "shape_old_dataframe = dataframe.shape[0]\n",
    "test_building = pd.read_csv('./test_b'+str(index_reader)+'.csv')\n",
    "test_for_index = pd.read_csv('./test.csv')"
   ]
  },
  {
   "cell_type": "code",
   "execution_count": 126,
   "metadata": {},
   "outputs": [],
   "source": [
    "#Defined Variables\n",
    "val_time = 1 #1 hour Aggregate\n",
    "n_input = 72 #Timestep size is 72\n",
    "n_features = 16 #Input features is 16\n",
    "val_length = test_building.shape[0] #Prediction file length for particular building\n",
    "n_pred = 3 \n",
    "val_length_new = int(float(shape_old_dataframe)*0.2)\n",
    "val_gap = val_time*4"
   ]
  },
  {
   "cell_type": "code",
   "execution_count": 127,
   "metadata": {},
   "outputs": [
    {
     "name": "stdout",
     "output_type": "stream",
     "text": [
      "The shape of raw data is -:  (9182, 23)\n",
      "Shape of training data -:  6600\n",
      "Shape of testing data -:  (2582, 19)\n"
     ]
    }
   ],
   "source": [
    "#Preprocessing Dataframe\n",
    "dataframe = pd.concat([dataframe,test_building],axis=0)\n",
    "interval = [dataframe.shape[0]]\n",
    "print(\"The shape of raw data is -: \", dataframe.shape)\n",
    "print(\"Shape of training data -: \", shape_old_dataframe)\n",
    "print(\"Shape of testing data -: \", test_building.shape)\n",
    "dataframe = dataframe.drop(['Unnamed: 0'],axis=1)\n",
    "dataframe['timestamp'][:-test_building.shape[0]]=pd.to_datetime(dataframe['timestamp'][:-test_building.shape[0]],format='%d-%m-%Y %H:%M')\n",
    "dataframe['timestamp'][-test_building.shape[0]:]=pd.to_datetime(dataframe['timestamp'][-test_building.shape[0]:],format='%d/%m/%Y %H:%M')\n",
    "dataframe.set_index(dataframe['timestamp'],inplace=True)\n",
    "dataframe = dataframe.drop(['timestamp'],axis=1)\n",
    "dataframe.reset_index(inplace=True)\n",
    "#Taking particular features\n",
    "time_series = dataframe[['main_meter', 'sub_meter_1', 'sub_meter_2', 'corporate', 'day of week_0','day of week_1','day of week_2','day of week_3','day of week_4','day of week_5','day of week_6','building_number_1','building_number_2','building_number_3','building_number_4','building_number_5']] "
   ]
  },
  {
   "cell_type": "code",
   "execution_count": 128,
   "metadata": {
    "scrolled": true
   },
   "outputs": [
    {
     "name": "stdout",
     "output_type": "stream",
     "text": [
      "Training data shape  (6600, 16)\n",
      "Testing data shape  (2582, 16)\n",
      "Shape of training data after final processing -:  (6528, 72, 16)\n"
     ]
    }
   ],
   "source": [
    "#Normalizing Dataframes\n",
    "scaler = MinMaxScaler()\n",
    "\n",
    "scaler.fit(time_series[:interval[0]])\n",
    "scaled_train_data = scaler.transform(train_data)\n",
    "#Splitting into training and test data\n",
    "sum = 0\n",
    "c = interval[0] \n",
    "train_data = time_series[:c-val_length]\n",
    "test_data = time_series[c-val_length:c]\n",
    "sum+=c\n",
    "interval[0] = sum -val_length\n",
    "\n",
    "test_data = pd.DataFrame(test_data).values.reshape(-1,n_features)\n",
    "train_data = pd.DataFrame(train_data).values.reshape(-1,n_features)\n",
    "print(\"Training data shape \", train_data.shape)\n",
    "print(\"Testing data shape \", test_data.shape)\n",
    "\n",
    "#Processing Training data and Testing Data for GRU\n",
    "X_train = []\n",
    "y_train = []\n",
    "\n",
    "for i in range(n_input, interval[0]):\n",
    "    X_train.append(scaled_train_data[i-n_input:i, :])\n",
    "    y_train.append(scaled_train_data[i, :n_pred])\n",
    "    \n",
    "X_train, y_train = np.array(X_train), np.array(y_train)\n",
    "X_train = np.reshape(X_train, (X_train.shape[0], n_input, n_features))\n",
    "\n",
    "perm = np.random.permutation(X_train.shape[0]) ##Shuffling data\n",
    "X_train = X_train[perm]\n",
    "y_train = y_train[perm]\n",
    "\n",
    "print(\"Shape of training data after final processing -: \", X_train.shape)"
   ]
  },
  {
   "cell_type": "code",
   "execution_count": 129,
   "metadata": {},
   "outputs": [
    {
     "name": "stdout",
     "output_type": "stream",
     "text": [
      "Model: \"sequential\"\n",
      "_________________________________________________________________\n",
      "Layer (type)                 Output Shape              Param #   \n",
      "=================================================================\n",
      "gru (GRU)                    (None, 72, 300)           286200    \n",
      "_________________________________________________________________\n",
      "gru_1 (GRU)                  (None, 50)                52800     \n",
      "_________________________________________________________________\n",
      "dense (Dense)                (None, 3)                 153       \n",
      "=================================================================\n",
      "Total params: 339,153\n",
      "Trainable params: 339,153\n",
      "Non-trainable params: 0\n",
      "_________________________________________________________________\n",
      "None\n",
      "Loaded model from disk\n"
     ]
    }
   ],
   "source": [
    "#Building GRU Model and Saving Model\n",
    "val = \"building\"+str(index_reader)+\"_1hr_sigmoid_3meter_adam_1_final\"\n",
    "\n",
    "'''\n",
    "gru_model = Sequential()\n",
    "gru_model.add(GRU(300,  return_sequences=True, activation='relu',input_shape=(n_input,n_features)))\n",
    "gru_model.add(GRU(50,activation='relu'))\n",
    "gru_model.add(Dense(3, activation='sigmoid'))\n",
    "\n",
    "gru_model.compile(optimizer='adam',loss='mse')\n",
    "\n",
    "print(gru_model.summary())\n",
    "\n",
    "#Saving model\n",
    "model_json = gru_model.to_json()\n",
    "with open(\"./Json/final_models/model_GRU_model_all_\"+ val +\".json\", \"w\") as json_file:\n",
    "    json_file.write(model_json)\n",
    "\n",
    "#Fitting Model\n",
    "gru_model.fit(X_train, y_train, epochs=no_of_epochs, batch_size = 1024)\n",
    "\n",
    "#Saving weights\n",
    "gru_model.save_weights(\"./weights/final_weights/model_GRU_model_all_\"+ val +\".h5\")\n",
    "print(\"Saved model to disk\")\n",
    "\n",
    "'''\n",
    "#Loading Model\n",
    "json_file = open(\"./Json/final_models/model_GRU_model_all_\"+ val +\".json\", 'r')\n",
    "loaded_model_json = json_file.read()\n",
    "json_file.close()\n",
    "gru_model = model_from_json(loaded_model_json)\n",
    "print(gru_model.summary())\n",
    "# load weights into new model\n",
    "gru_model.load_weights(\"./weights/final_weights/model_GRU_model_all_\"+ val +\".h5\")\n",
    "print(\"Loaded model from disk\")"
   ]
  },
  {
   "cell_type": "code",
   "execution_count": 130,
   "metadata": {},
   "outputs": [],
   "source": [
    "#Predicting from Model\n",
    "gru_predictions_scaled = list()\n",
    "batch = scaled_train_data[interval[0]-n_input:interval[0], :]\n",
    "current_batch = batch.reshape((1,n_input,n_features))\n",
    "for i in range(0,val_length):   \n",
    "    gru_pred = ((gru_model.predict(current_batch)).astype(np.float64))\n",
    "    dummy = test_data[i].copy()\n",
    "    dummy[:n_pred] = gru_pred\n",
    "    gru_predictions_scaled.append(dummy)\n",
    "    current_batch = np.append(current_batch[:,1:],[dummy.reshape(1, -1)], axis=1)\n",
    "gru_predictions = scaler.inverse_transform(gru_predictions_scaled)\n",
    "gru_pred = np.array(gru_predictions[:, :n_pred])\n",
    "gru_pred = np.repeat(gru_pred, val_gap, axis = 0)\n",
    "final_gru_predictions = pd.DataFrame(gru_pred)\n",
    "final_gru_predictions.columns = ['main_meter','sub_meter_1','sub_meter_2']\n",
    "test_for_index = test_for_index[test_for_index['building_number']==index_reader]\n",
    "final_gru_predictions = final_gru_predictions.iloc[:test_for_index.shape[0],:]\n",
    "final_gru_predictions.index = test_for_index['timestamp']"
   ]
  },
  {
   "cell_type": "code",
   "execution_count": 131,
   "metadata": {},
   "outputs": [],
   "source": [
    "#Saving Dataframe into csv\n",
    "final_gru_predictions.to_csv('./building_'+str(index_reader)+'_predictions.csv')"
   ]
  },
  {
   "cell_type": "code",
   "execution_count": null,
   "metadata": {},
   "outputs": [],
   "source": []
  },
  {
   "cell_type": "code",
   "execution_count": null,
   "metadata": {},
   "outputs": [],
   "source": []
  },
  {
   "cell_type": "code",
   "execution_count": 68,
   "metadata": {},
   "outputs": [],
   "source": []
  },
  {
   "cell_type": "code",
   "execution_count": 83,
   "metadata": {},
   "outputs": [],
   "source": []
  },
  {
   "cell_type": "code",
   "execution_count": null,
   "metadata": {},
   "outputs": [],
   "source": []
  },
  {
   "cell_type": "code",
   "execution_count": null,
   "metadata": {},
   "outputs": [],
   "source": []
  }
 ],
 "metadata": {
  "kernelspec": {
   "display_name": "Python 3",
   "language": "python",
   "name": "python3"
  },
  "language_info": {
   "codemirror_mode": {
    "name": "ipython",
    "version": 3
   },
   "file_extension": ".py",
   "mimetype": "text/x-python",
   "name": "python",
   "nbconvert_exporter": "python",
   "pygments_lexer": "ipython3",
   "version": "3.7.4"
  }
 },
 "nbformat": 4,
 "nbformat_minor": 2
}
